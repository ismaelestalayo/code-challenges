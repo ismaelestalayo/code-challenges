{
 "cells": [
  {
   "cell_type": "markdown",
   "metadata": {},
   "source": [
    "# Part1"
   ]
  },
  {
   "cell_type": "code",
   "execution_count": 1,
   "metadata": {},
   "outputs": [
    {
     "data": {
      "text/plain": [
       "['.|...\\\\....',\n",
       " '|.-.\\\\.....',\n",
       " '.....|-...',\n",
       " '........|.',\n",
       " '..........',\n",
       " '.........\\\\',\n",
       " '..../.\\\\\\\\..',\n",
       " '.-.-/..|..',\n",
       " '.|....-|.\\\\',\n",
       " '..//.|....']"
      ]
     },
     "execution_count": 1,
     "metadata": {},
     "output_type": "execute_result"
    }
   ],
   "source": [
    "import re\n",
    "\n",
    "\n",
    "INPUT = open(\"input.txt\").read()\n",
    "EXAMPLE = open(\"example1.txt\").read()\n",
    "\n",
    "INPUT = INPUT.splitlines()\n",
    "EXAMPLE = EXAMPLE.splitlines()\n",
    "\n",
    "# ############################################################################\n",
    "# print(lines[10:])\n",
    "EXAMPLE"
   ]
  },
  {
   "cell_type": "code",
   "execution_count": null,
   "metadata": {},
   "outputs": [],
   "source": [
    "lines = EXAMPLE\n",
    "ENERGIZED_COORDS = set()\n",
    "\n",
    "def move_beam(curr_coord, direction):\n",
    "    if (curr_coord == None):\n",
    "        return None, None\n",
    "    # check if current char is a mirror\n",
    "    ENERGIZED_COORDS.add(curr_coord)\n",
    "    curr_char = lines[curr_coord[1]][curr_coord[0]]\n",
    "    if (curr_char not in [\"/\", \"\\\\\", \"|\", \"-\", \".\"]):\n",
    "        raise ValueError\n",
    "    if curr_char == \"/\":\n",
    "        if (direction == \"R\"):\n",
    "            direction = \"U\"\n",
    "        elif (direction == \"L\"):\n",
    "            direction = \"D\"\n",
    "        elif (direction == \"U\"):\n",
    "            direction = \"R\"\n",
    "        else:\n",
    "            direction = \"L\"\n",
    "    elif curr_char == \"\\\\\":\n",
    "        if (direction == \"R\"):\n",
    "            direction = \"D\"\n",
    "        elif (direction == \"L\"):\n",
    "            direction = \"U\"\n",
    "        elif (direction == \"U\"):\n",
    "            direction = \"L\"\n",
    "        else:\n",
    "            direction = \"R\"\n",
    "    elif curr_char == \"|\":\n",
    "        if (direction == \"R\") or (direction == \"L\"):\n",
    "            direction = [\"U\", \"D\"]\n",
    "    elif curr_char == \"-\":\n",
    "        if (direction == \"U\") or (direction == \"D\"):\n",
    "            direction = [\"L\", \"R\"]\n",
    "    # if (len(direction) == 2):\n",
    "    #     print(\"  - Splitting beam...\")\n",
    "    #     next_coord1 = calc_next_coord(curr_coord, direction[0])\n",
    "    #     direction1 = direction[0]\n",
    "    #     # follow one branch to the end\n",
    "    #     while (next_coord1 != None):\n",
    "    #         next_coord1, direction1 = move_beam(next_coord1, direction1)\n",
    "    #     # return the other branch\n",
    "    #     direction = direction[1]\n",
    "    #     next_coord = calc_next_coord(curr_coord, direction)\n",
    "    # else:\n",
    "    #     # move to next coord\n",
    "    #     next_coord = calc_next_coord(curr_coord, direction)\n",
    "    #     if (next_coord == None):\n",
    "    #         return None, None\n",
    "    return next_coord, direction\n",
    "\n",
    "\n",
    "\n",
    "def calc_next_coord(curr_coord, direction):\n",
    "    next_coord = curr_coord\n",
    "    if direction == \"U\":\n",
    "        next_coord = (next_coord[0], next_coord[1] - 1)\n",
    "    elif direction == \"D\":\n",
    "        next_coord = (next_coord[0], next_coord[1] + 1)\n",
    "    elif direction == \"L\":\n",
    "        next_coord = (next_coord[0] - 1, next_coord[1])\n",
    "    elif direction == \"R\":\n",
    "        next_coord = (next_coord[0] + 1, next_coord[1])\n",
    "    else:\n",
    "        print(\"Error: direction not recognized\")\n",
    "        raise ValueError\n",
    "    # Check limits\n",
    "    if (next_coord[0] < 0) or (next_coord[1] < 0) or \\\n",
    "        (next_coord[0] >= len(lines[0])) or (next_coord[1] >= len(lines)):\n",
    "            return None\n",
    "    return next_coord\n",
    "\n",
    "\n"
   ]
  },
  {
   "cell_type": "code",
   "execution_count": null,
   "metadata": {},
   "outputs": [],
   "source": [
    "from time import sleep\n",
    "\n",
    "coord, direction = (0, 0), \"R\"\n",
    "while (True):\n",
    "    if (coord == None):\n",
    "        break\n",
    "    sleep(0.1)\n",
    "    print(f\"- {coord} {direction}: '{ lines[coord[1]][coord[0]] }' \")\n",
    "    coord, direction = move_beam( coord, direction)\n",
    "\n",
    "\n",
    "print(f\"> Energized coords: { len(ENERGIZED_COORDS) }\")"
   ]
  },
  {
   "cell_type": "markdown",
   "metadata": {},
   "source": [
    "### Main code"
   ]
  },
  {
   "cell_type": "code",
   "execution_count": null,
   "metadata": {},
   "outputs": [],
   "source": []
  },
  {
   "cell_type": "markdown",
   "metadata": {},
   "source": [
    "##### Solution: XXXXX\n",
    "\n",
    "<br>\n",
    "\n",
    "---\n",
    "\n",
    "# Part 2"
   ]
  },
  {
   "cell_type": "code",
   "execution_count": null,
   "metadata": {},
   "outputs": [],
   "source": [
    "import re\n",
    "\n",
    "\n",
    "lines = open(\"input.txt\").read()\n",
    "\n"
   ]
  },
  {
   "cell_type": "code",
   "execution_count": null,
   "metadata": {},
   "outputs": [],
   "source": []
  },
  {
   "cell_type": "markdown",
   "metadata": {},
   "source": [
    "### Main Code"
   ]
  },
  {
   "cell_type": "code",
   "execution_count": null,
   "metadata": {},
   "outputs": [],
   "source": []
  },
  {
   "cell_type": "markdown",
   "metadata": {},
   "source": [
    "##### Solution: XXX"
   ]
  },
  {
   "cell_type": "markdown",
   "metadata": {},
   "source": []
  }
 ],
 "metadata": {
  "kernelspec": {
   "display_name": "Python 3",
   "language": "python",
   "name": "python3"
  },
  "language_info": {
   "codemirror_mode": {
    "name": "ipython",
    "version": 3
   },
   "file_extension": ".py",
   "mimetype": "text/x-python",
   "name": "python",
   "nbconvert_exporter": "python",
   "pygments_lexer": "ipython3",
   "version": "3.7.9"
  }
 },
 "nbformat": 4,
 "nbformat_minor": 2
}
