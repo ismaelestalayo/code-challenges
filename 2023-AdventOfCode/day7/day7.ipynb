{
 "cells": [
  {
   "cell_type": "code",
   "execution_count": 113,
   "metadata": {},
   "outputs": [
    {
     "data": {
      "text/plain": [
       "[['AT777', '727'],\n",
       " ['7QT8A', '998'],\n",
       " ['95925', '783'],\n",
       " ['JK7T3', '899'],\n",
       " ['JQ99A', '970']]"
      ]
     },
     "execution_count": 113,
     "metadata": {},
     "output_type": "execute_result"
    }
   ],
   "source": [
    "import re\n",
    "from collections import Counter\n",
    "\n",
    "lines = open(\"example.txt\").readlines()\n",
    "lines = open(\"input.txt\").readlines()\n",
    "\n",
    "STRENGTH_ORDER = [\n",
    "    \"A\", \"K\", \"Q\", \"J\", \"T\",\n",
    "    \"9\", \"8\", \"7\", \"6\",\n",
    "    \"5\", \"4\", \"3\", \"2\"\n",
    "]\n",
    "STRENGTH_ORDER = STRENGTH_ORDER[::-1]\n",
    "\n",
    "# ############################################################################\n",
    "# clean the lines\n",
    "lines_cleaned = [line.strip(\"\\n\").split(\" \") for line in lines]\n",
    "\n",
    "lines_cleaned[:5]"
   ]
  },
  {
   "cell_type": "code",
   "execution_count": 39,
   "metadata": {},
   "outputs": [
    {
     "data": {
      "text/plain": [
       "('32T3K', '765')"
      ]
     },
     "execution_count": 39,
     "metadata": {},
     "output_type": "execute_result"
    }
   ],
   "source": [
    "hand, bid = lines_cleaned[0]\n",
    "\n",
    "hand, bid"
   ]
  },
  {
   "cell_type": "code",
   "execution_count": 114,
   "metadata": {},
   "outputs": [],
   "source": [
    "class PokerHand():\n",
    "    def __init__(self, hand, bid):\n",
    "        self.hand = hand\n",
    "        self.bid = int(bid)\n",
    "        self.type = self._calculate_type()\n",
    "\n",
    "    def __repr__(self):\n",
    "        return f\"{self.hand} (bid: {self.bid}) (type: {self.type})\"\n",
    "    \n",
    "    def __str__(self):\n",
    "        return f\"{self.hand} (bid: {self.bid}) (type: {self.type})\"\n",
    "\n",
    "    def _calculate_type(self):\n",
    "        # calculate the strength of the hand\n",
    "        # 1. High Card\n",
    "        # 2. One Pair\n",
    "        # 3. Two Pair\n",
    "        # 4. Three of a Kind\n",
    "        # 5. Full House\n",
    "        # 6. Four of a Kind\n",
    "        # 7. Five of a Kind\n",
    "        counter = Counter(self.hand)\n",
    "        c = [c[1] for c in counter.most_common()]\n",
    "        if (c[0] == 5):\n",
    "            return 7\n",
    "        elif (c[0] == 4):\n",
    "            return 6\n",
    "        elif (c[0] == 3 and c[1] == 2):\n",
    "            return 5\n",
    "        elif (c[0] == 3):\n",
    "            return 4\n",
    "        elif (c[0] == 2 and c[1] == 2):\n",
    "            return 3\n",
    "        elif (c[0] == 2):\n",
    "            return 2\n",
    "        else:\n",
    "            return 1\n",
    "\n"
   ]
  },
  {
   "cell_type": "code",
   "execution_count": 120,
   "metadata": {},
   "outputs": [
    {
     "data": {
      "text/plain": [
       "[237QA (bid: 396) (type: 1),\n",
       " 23K64 (bid: 974) (type: 1),\n",
       " 24Q65 (bid: 138) (type: 1),\n",
       " 26479 (bid: 371) (type: 1),\n",
       " 273TA (bid: 885) (type: 1)]"
      ]
     },
     "execution_count": 120,
     "metadata": {},
     "output_type": "execute_result"
    }
   ],
   "source": [
    "ALL_HANDS = []\n",
    "for hand, bid in lines_cleaned:\n",
    "    ALL_HANDS.append(PokerHand(hand, bid))\n",
    "\n",
    "\n",
    "# sort hands by type, and if tie, by the highest card, but with sorted()\n",
    "SORTED_HANDS = sorted(ALL_HANDS, key=lambda x: (\n",
    "    x.type,\n",
    "    STRENGTH_ORDER.index(x.hand[0]),\n",
    "    STRENGTH_ORDER.index(x.hand[1]),\n",
    "    STRENGTH_ORDER.index(x.hand[2]),\n",
    "    STRENGTH_ORDER.index(x.hand[3]),\n",
    "    STRENGTH_ORDER.index(x.hand[4]),\n",
    ")) # , reverse=True\n",
    "\n",
    "SORTED_HANDS[:5]"
   ]
  },
  {
   "cell_type": "code",
   "execution_count": 118,
   "metadata": {},
   "outputs": [
    {
     "data": {
      "text/plain": [
       "248113761"
      ]
     },
     "execution_count": 118,
     "metadata": {},
     "output_type": "execute_result"
    }
   ],
   "source": [
    "sum([hand.bid * (SORTED_HANDS.index(hand) + 1) for hand in SORTED_HANDS])\n",
    "# 248113761"
   ]
  },
  {
   "cell_type": "markdown",
   "metadata": {},
   "source": [
    "# Part 2"
   ]
  },
  {
   "cell_type": "code",
   "execution_count": 249,
   "metadata": {},
   "outputs": [
    {
     "name": "stdout",
     "output_type": "stream",
     "text": [
      "ORDER: ['J', '2', '3', '4', '5', '6', '7', '8', '9', 'T', 'Q', 'K', 'A']\n"
     ]
    },
    {
     "data": {
      "text/plain": [
       "[['AT777', '727'],\n",
       " ['7QT8A', '998'],\n",
       " ['95925', '783'],\n",
       " ['JK7T3', '899'],\n",
       " ['JQ99A', '970']]"
      ]
     },
     "execution_count": 249,
     "metadata": {},
     "output_type": "execute_result"
    }
   ],
   "source": [
    "import re\n",
    "from collections import Counter\n",
    "\n",
    "lines = open(\"example.txt\").readlines()\n",
    "lines = open(\"exampleExtra.txt\").readlines()\n",
    "lines = open(\"input.txt\").readlines()\n",
    "\n",
    "\n",
    "STRENGTH_ORDER = [\n",
    "    \"A\", \"K\", \"Q\", \"T\",\n",
    "    \"9\", \"8\", \"7\", \"6\",\n",
    "    \"5\", \"4\", \"3\", \"2\", \"J\"\n",
    "]\n",
    "STRENGTH_ORDER = STRENGTH_ORDER[::-1]\n",
    "\n",
    "print(f\"ORDER: {STRENGTH_ORDER}\")\n",
    "\n",
    "# ############################################################################\n",
    "# clean the lines\n",
    "lines_cleaned = [line.strip(\"\\n\").split(\" \") for line in lines]\n",
    "\n",
    "lines_cleaned[:5]"
   ]
  },
  {
   "cell_type": "code",
   "execution_count": 250,
   "metadata": {},
   "outputs": [
    {
     "name": "stdout",
     "output_type": "stream",
     "text": [
      "95925 783\n",
      "Counter({'9': 2, '5': 2, '2': 1}) ['9', '5', '2']\n",
      "CC:   Counter({'5': 2, '2': 1, '9': 0})\n"
     ]
    },
    {
     "data": {
      "text/plain": [
       "Counter({'5': 2, '2': 1})"
      ]
     },
     "execution_count": 250,
     "metadata": {},
     "output_type": "execute_result"
    }
   ],
   "source": [
    "# TEST\n",
    "\n",
    "hand, bid = lines_cleaned[2]\n",
    "\n",
    "print(hand, bid)\n",
    "\n",
    "counter = Counter(hand)\n",
    "print(counter, list(counter))\n",
    "\n",
    "cc = counter.copy()\n",
    "cc.subtract([\"9\"] * counter[\"9\"])\n",
    "print(\"CC:  \", cc)\n",
    "\n",
    "Counter(c for c in counter.elements() if c != \"9\")"
   ]
  },
  {
   "cell_type": "code",
   "execution_count": 257,
   "metadata": {},
   "outputs": [],
   "source": [
    "class PokerHand():\n",
    "    def __init__(self, hand, bid):\n",
    "        self.hand = hand\n",
    "        self.bid = int(bid)\n",
    "        self.type = self._calculate_type()\n",
    "\n",
    "    def __repr__(self):\n",
    "        return f\"{self.hand} (bid: {self.bid}) (type: {self.type})\"\n",
    "    \n",
    "    def __str__(self):\n",
    "        return f\"{self.hand} (bid: {self.bid}) (type: {self.type})\"\n",
    "\n",
    "    def _calculate_type(self):\n",
    "        # calculate the strength of the hand\n",
    "        # 0. High Card\n",
    "        # 1. One Pair\n",
    "        # 2. Two Pair\n",
    "        # 3. Three of a Kind\n",
    "        # 4. Full House\n",
    "        # 5. Four of a Kind\n",
    "        # 6. Five of a Kind\n",
    "        counter = Counter(self.hand)\n",
    "        counterWithoutJ = counter.copy()\n",
    "        counterWithoutJ.subtract([\"J\"] * counter[\"J\"])\n",
    "        c = [c[1] for c in counterWithoutJ.most_common()]\n",
    "        if (c[0] == 5 or (c[0] + counter[\"J\"] == 5)):\n",
    "            return 6\n",
    "        elif (c[0] == 4 or (c[0] + counter[\"J\"] == 4)):\n",
    "            return 5\n",
    "        elif (\n",
    "            (c[0] == 3 and c[1] == 2) or \n",
    "            (c[0] + counter[\"J\"] == 3 and c[1] == 2) or\n",
    "            (c[0] == 3 and c[1] + counter[\"J\"] == 2)\n",
    "            ):\n",
    "            return 4\n",
    "        elif (c[0] == 3 or (c[0] + counter[\"J\"] == 3)):\n",
    "            return 3\n",
    "        elif (\n",
    "            (c[0] == 2 and c[1] == 2) or\n",
    "            (c[0] + counter[\"J\"] == 2 and c[1] == 2) or\n",
    "            (c[0] == 2 and c[1] + counter[\"J\"] == 2)\n",
    "            ):\n",
    "            return 2\n",
    "        elif (c[0] == 2 or (c[0] + counter[\"J\"] == 2)):\n",
    "            return 1\n",
    "        else:\n",
    "            return 0\n",
    "\n"
   ]
  },
  {
   "cell_type": "code",
   "execution_count": 258,
   "metadata": {},
   "outputs": [
    {
     "data": {
      "text/plain": [
       "[237QA (bid: 396) (type: 0),\n",
       " 23K64 (bid: 974) (type: 0),\n",
       " 24Q65 (bid: 138) (type: 0),\n",
       " 26479 (bid: 371) (type: 0),\n",
       " 273TA (bid: 885) (type: 0),\n",
       " 27654 (bid: 817) (type: 0),\n",
       " 29384 (bid: 599) (type: 0),\n",
       " 2T87K (bid: 298) (type: 0),\n",
       " 2KQ5T (bid: 430) (type: 0),\n",
       " 2A5KT (bid: 746) (type: 0),\n",
       " 2A6Q4 (bid: 481) (type: 0),\n",
       " 32Q79 (bid: 433) (type: 0),\n",
       " 352T8 (bid: 289) (type: 0),\n",
       " 352QA (bid: 948) (type: 0),\n",
       " 35QT7 (bid: 552) (type: 0),\n",
       " 3652A (bid: 186) (type: 0),\n",
       " 3759Q (bid: 106) (type: 0),\n",
       " 384K9 (bid: 445) (type: 0),\n",
       " 395A8 (bid: 301) (type: 0),\n",
       " 3Q6T7 (bid: 253) (type: 0)]"
      ]
     },
     "execution_count": 258,
     "metadata": {},
     "output_type": "execute_result"
    }
   ],
   "source": [
    "ALL_HANDS = []\n",
    "for hand, bid in lines_cleaned:\n",
    "    ALL_HANDS.append(PokerHand(hand, bid))\n",
    "\n",
    "\n",
    "# sort hands by type, and if tie, by the highest card, but with sorted()\n",
    "SORTED_HANDS = sorted(ALL_HANDS, key=lambda x: (\n",
    "    x.type,\n",
    "    STRENGTH_ORDER.index(x.hand[0]),\n",
    "    STRENGTH_ORDER.index(x.hand[1]),\n",
    "    STRENGTH_ORDER.index(x.hand[2]),\n",
    "    STRENGTH_ORDER.index(x.hand[3]),\n",
    "    STRENGTH_ORDER.index(x.hand[4]),\n",
    ")) # , reverse=True\n",
    "\n",
    "SORTED_HANDS[:20]"
   ]
  },
  {
   "cell_type": "code",
   "execution_count": 259,
   "metadata": {},
   "outputs": [
    {
     "data": {
      "text/plain": [
       "246285222"
      ]
     },
     "execution_count": 259,
     "metadata": {},
     "output_type": "execute_result"
    }
   ],
   "source": [
    "# Calculate (bid * rank)\n",
    "sum([hand.bid * (SORTED_HANDS.index(hand) + 1) for hand in SORTED_HANDS])\n",
    "# 246285222"
   ]
  },
  {
   "cell_type": "code",
   "execution_count": null,
   "metadata": {},
   "outputs": [],
   "source": []
  }
 ],
 "metadata": {
  "kernelspec": {
   "display_name": "Python 3",
   "language": "python",
   "name": "python3"
  },
  "language_info": {
   "codemirror_mode": {
    "name": "ipython",
    "version": 3
   },
   "file_extension": ".py",
   "mimetype": "text/x-python",
   "name": "python",
   "nbconvert_exporter": "python",
   "pygments_lexer": "ipython3",
   "version": "3.10.11"
  }
 },
 "nbformat": 4,
 "nbformat_minor": 2
}
