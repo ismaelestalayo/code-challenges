{
 "cells": [
  {
   "cell_type": "code",
   "execution_count": 11,
   "metadata": {},
   "outputs": [
    {
     "name": "stdout",
     "output_type": "stream",
     "text": [
      "INSTRUCTIONS: ['L', 'R', 'L', 'R', 'L', 'L', 'R', 'R', 'L', 'R', 'R', 'R', 'L', 'R', 'L', 'R', 'R', 'L', 'R', 'L', 'L', 'R', 'R', 'L', 'R', 'R', 'R', 'L', 'R', 'L', 'R', 'L', 'R', 'L', 'R', 'R', 'L', 'R', 'L', 'L', 'R', 'R', 'R', 'L', 'R', 'R', 'R', 'L', 'L', 'R', 'R', 'L', 'R', 'R', 'L', 'R', 'L', 'R', 'R', 'R', 'L', 'L', 'L', 'R', 'R', 'L', 'R', 'L', 'R', 'L', 'R', 'L', 'R', 'L', 'R', 'L', 'L', 'R', 'R', 'R', 'L', 'R', 'L', 'R', 'R', 'R', 'L', 'R', 'R', 'R', 'L', 'R', 'R', 'R', 'L', 'R', 'R', 'R', 'L', 'R', 'R', 'R', 'L', 'R', 'R', 'R', 'L', 'R', 'R', 'R', 'L', 'R', 'R', 'L', 'R', 'R', 'R', 'L', 'L', 'R', 'L', 'L', 'R', 'R', 'L', 'R', 'R', 'L', 'R', 'R', 'L', 'R', 'R', 'R', 'L', 'L', 'R', 'L', 'R', 'R', 'L', 'R', 'L', 'R', 'L', 'R', 'R', 'L', 'L', 'R', 'L', 'R', 'R', 'R', 'L', 'R', 'R', 'L', 'L', 'R', 'L', 'R', 'L', 'R', 'R', 'R', 'L', 'R', 'R', 'L', 'R', 'R', 'L', 'R', 'R', 'L', 'R', 'L', 'L', 'R', 'L', 'R', 'R', 'R', 'L', 'L', 'L', 'R', 'R', 'R', 'L', 'L', 'L', 'L', 'R', 'R', 'L', 'R', 'R', 'R', 'L', 'L', 'L', 'R', 'R', 'L', 'L', 'R', 'L', 'R', 'L', 'R', 'L', 'L', 'L', 'R', 'R', 'R', 'L', 'L', 'R', 'R', 'R', 'L', 'L', 'L', 'R', 'L', 'R', 'R', 'L', 'L', 'R', 'R', 'R', 'L', 'R', 'R', 'R', 'L', 'R', 'L', 'L', 'R', 'R', 'R', 'L', 'R', 'L', 'R', 'L', 'R', 'L', 'L', 'R', 'R', 'L', 'L', 'R', 'R', 'L', 'R', 'R', 'R', 'L', 'R', 'L', 'R', 'R', 'R', 'L', 'R', 'R', 'L', 'R', 'L', 'R', 'R', 'L', 'R', 'R', 'R', 'R']\n",
      "NODES_LIST: ['SGR = (JLL, VRV)', 'XDC = (TBG, KNF)', 'QRS = (BVR, VGS)', 'BHD = (SFQ, LFL)', 'KJN = (BVB, SNM)', 'MVR = (XNS, GXN)', 'KTX = (GHQ, QRL)', 'GLH = (GPF, PLR)', 'XKH = (BTC, CKN)', 'MXM = (HDB, BVC)']\n"
     ]
    },
    {
     "data": {
      "text/plain": [
       "'SGR = (JLL, VRV)'"
      ]
     },
     "execution_count": 11,
     "metadata": {},
     "output_type": "execute_result"
    }
   ],
   "source": [
    "import re\n",
    "\n",
    "\n",
    "lines = open(\"example1.txt\").readlines()\n",
    "lines = open(\"example2.txt\").readlines()\n",
    "lines = open(\"input.txt\").readlines()\n",
    "\n",
    "\n",
    "# ############################################################################\n",
    "# clean the lines\n",
    "\n",
    "\n",
    "INSTRUCTIONS = [letter for letter in lines[0] if letter != \"\\n\"]\n",
    "NODES_LIST = [node.strip(\"\\n\") for node in lines[1:] if node != \"\\n\"]\n",
    "\n",
    "\n",
    "print(f\"INSTRUCTIONS: {INSTRUCTIONS}\")\n",
    "print(f\"NODES_LIST: {NODES_LIST[:10]}\")\n",
    "NODES_LIST[0]"
   ]
  },
  {
   "cell_type": "code",
   "execution_count": 2,
   "metadata": {},
   "outputs": [],
   "source": [
    "class Node:\n",
    "    def __init__(self, node_text):\n",
    "        curr, left, right = re.findall('(\\w+) = \\((\\w+), (\\w+)\\)', node_text)[0]\n",
    "        self.name = curr\n",
    "        self.left = left\n",
    "        self.right = right\n",
    "\n",
    "    def __repr__(self):\n",
    "        return f\"{self.name} -> {self.left}, {self.right}\"\n",
    "\n",
    "    def __str__(self):\n",
    "        return f\"{self.name} -> {self.left}, {self.right}\"\n",
    "\n",
    "    def next(self, letter):\n",
    "        if (letter.upper() == \"L\"): return self.left\n",
    "        else: return self.right\n"
   ]
  },
  {
   "cell_type": "code",
   "execution_count": 15,
   "metadata": {},
   "outputs": [
    {
     "name": "stdout",
     "output_type": "stream",
     "text": [
      "['SGR = (JLL, VRV)', 'XDC = (TBG, KNF)', 'QRS = (BVR, VGS)', 'BHD = (SFQ, LFL)', 'KJN = (BVB, SNM)', 'MVR = (XNS, GXN)', 'KTX = (GHQ, QRL)', 'GLH = (GPF, PLR)', 'XKH = (BTC, CKN)', 'MXM = (HDB, BVC)', 'MRG = (KFG, SFF)', 'SBM = (PVH, CJK)', 'DPH = (TBV, QCV)', 'NKL = (TRR, GRQ)', 'BNL = (RBS, DMT)', 'KHB = (RQQ, HPL)', 'KSB = (HQM, NXH)', 'CKX = (XQT, KJK)', 'LFC = (RMT, LCM)', 'BFN = (FVH, DNL)', 'TNT = (HCH, CKX)', 'RQK = (BQB, JQS)', 'MKH = (MPH, VMJ)', 'CCJ = (HMF, DXJ)', 'XFT = (GNC, RQT)', 'DPD = (JJG, RSN)', 'LLH = (TMP, XVH)', 'GFT = (XJV, PVG)', 'QFL = (RBH, VLM)', 'QFF = (JVR, NJN)', 'SVT = (LSH, TSV)', 'FQG = (QTJ, JNM)', 'JVR = (CGX, BML)', 'SGL = (KLN, RFH)', 'HFX = (GJD, LMK)', 'MRD = (JLV, JLV)', 'TRF = (KXR, LNS)', 'VRH = (XJV, PVG)', 'PQX = (VDS, QXZ)', 'RMF = (HTT, TCG)', 'JJG = (VKL, FLQ)', 'TKQ = (HCH, CKX)', 'SKD = (XPX, BTV)', 'XGB = (GXT, TBL)', 'HDB = (DQC, GRK)', 'LNS = (HXJ, HLB)', 'XNC = (LXP, LPD)', 'HNL = (DPD, HBN)', 'KVJ = (JGP, LFC)', 'FNK = (SDF, SDF)', 'FPM = (DNG, PGL)', 'LLJ = (VKC, SGR)', 'KJX = (NKH, HKD)', 'HQM = (JFL, RFM)', 'NXV = (DHL, SMB)', 'KHM = (NSK, NRL)', 'KDG = (RTN, JFN)', 'HTT = (PTL, GQQ)', 'CKT = (KQT, RQS)', 'QQB = (TBX, CXG)', 'HHV = (NBD, KDG)', 'TSR = (JKF, QST)', 'PFS = (TJV, NDR)', 'DXJ = (HNL, SHS)', 'GRK = (XSH, CGM)', 'KPT = (LKJ, KVJ)', 'FBG = (CTQ, GGP)', 'SBD = (QKN, JKM)', 'JTB = (JRR, RCX)', 'CFF = (RNF, FGG)', 'TQH = (PJP, RVH)', 'RBH = (JKS, VXD)', 'LKJ = (JGP, LFC)', 'RVS = (QSC, NMX)', 'DCG = (SVV, KMP)', 'MBP = (NDP, BJS)', 'FVH = (KDB, GXQ)', 'PGL = (QCX, PPL)', 'MTZ = (TDF, DCG)', 'HKM = (VMJ, MPH)', 'MCL = (XPR, PGN)', 'LBV = (FFD, VVD)', 'QCV = (GPG, KFR)', 'QSC = (JPL, NNG)', 'FBH = (MRD, DGL)', 'MNG = (KLM, LFG)', 'XKR = (VNT, BFB)', 'RNG = (KFL, NQX)', 'RCK = (TDD, PQX)', 'KSN = (FFD, VVD)', 'NQX = (TNS, KCM)', 'KFG = (QLH, QSR)', 'LMK = (XDM, CJS)', 'JJC = (TSR, FQP)', 'KMR = (NBD, KDG)', 'XPM = (LXT, JCH)', 'VTP = (RNG, JLB)', 'KFL = (TNS, KCM)', 'JSB = (NDR, TJV)', 'QKA = (QQD, SSM)', 'NFP = (JPT, DPM)', 'DKP = (RTD, PCV)', 'BJT = (KJM, KJM)', 'BVC = (DQC, GRK)', 'QQD = (JRH, TCB)', 'KMP = (SLM, GDX)', 'GMJ = (DMV, CMS)', 'RTX = (SKV, LCK)', 'SFQ = (TMM, MGX)', 'NML = (XRT, GRM)', 'BGT = (GDB, VDT)', 'RGG = (NLQ, JNT)', 'XQV = (DKX, LGQ)', 'SGF = (LHD, NJL)', 'RKL = (JKK, NDZ)', 'HPL = (GNQ, FTF)', 'JLP = (RBV, TLD)', 'XSN = (HQM, NXH)', 'HRD = (DXJ, HMF)', 'GMV = (PQF, STD)', 'JCC = (CTK, XQD)', 'RXM = (LSM, BPH)', 'KRF = (XGB, CJN)', 'FFS = (NNK, DLC)', 'XJV = (LPM, QFL)', 'JHV = (CXG, TBX)', 'LJP = (BJQ, JTB)', 'TBX = (SRF, VNC)', 'LKM = (XBB, GJT)', 'NSV = (VBV, GBV)', 'VDT = (RBT, LLJ)', 'MGF = (MQB, LRM)', 'QQK = (BFC, MBP)', 'TLD = (RGG, HSX)', 'QFC = (QBB, VPV)', 'PJF = (NGG, MRG)', 'DLT = (TLM, JBR)', 'SRP = (QQK, FRH)', 'GNQ = (PCP, CFM)', 'VHR = (PBK, PBK)', 'RCX = (SDD, QXM)', 'JSJ = (LGJ, TJG)', 'JJP = (TCQ, NJQ)', 'HJL = (FNQ, JSD)', 'DLG = (XQJ, PFH)', 'QHK = (XKP, RTR)', 'GBV = (FKC, LSR)', 'QVX = (TFD, KFB)', 'GDX = (GHJ, LNX)', 'LSR = (SQD, VMT)', 'PPN = (KHB, FRV)', 'CKN = (CSD, QRD)', 'BVX = (RKM, LXN)', 'FPR = (KJM, RCK)', 'NLX = (XKR, PNK)', 'XSH = (PHB, NRD)', 'TXH = (KTD, BPD)', 'SSM = (JRH, TCB)', 'VTD = (MXM, JCV)', 'HND = (NKH, HKD)', 'CJN = (TBL, GXT)', 'VJJ = (PCM, QLC)', 'PGD = (BJM, NBR)', 'VVD = (GRR, FVM)', 'GNC = (PRJ, LJP)', 'DLP = (VXJ, TSB)', 'LJD = (BLF, BHD)', 'XQD = (DRT, VTP)', 'BFB = (CBK, CHB)', 'QBB = (FFS, PFR)', 'KDH = (TTK, MNG)', 'STD = (MQP, MJB)', 'RVH = (DLP, HVQ)', 'LRL = (JQP, DLT)', 'PFH = (GMJ, LVN)', 'JLV = (CHD, CHD)', 'QRL = (HVB, DKP)', 'SRR = (FQV, TQD)', 'VPV = (PFR, FFS)', 'JFN = (XQP, FGF)', 'MJP = (LRT, XKS)', 'SMB = (QHK, TSS)', 'GPZ = (PFH, XQJ)', 'MTB = (LCK, SKV)', 'XKP = (HMN, FGJ)', 'BQK = (MBG, JCQ)', 'BLR = (FMH, VJJ)', 'VMA = (DCG, TDF)', 'SDD = (VRK, NTJ)', 'JRN = (SRC, LKV)', 'BPM = (MXM, JCV)', 'PBR = (VBB, SRK)', 'FGH = (CMP, TFP)', 'BCD = (PBR, GBB)', 'TCG = (PTL, GQQ)', 'GKT = (RBF, SVS)', 'SLS = (CCT, MDM)', 'FHL = (NDG, LSS)', 'RPD = (SRQ, RDQ)', 'VDR = (SJR, CKP)', 'CTQ = (JHK, QFS)', 'MXD = (CJK, PVH)', 'NDR = (RMF, SCG)', 'NBD = (RTN, JFN)', 'RQS = (CQN, GMV)', 'BTV = (NQT, SXK)', 'PNK = (VNT, BFB)', 'LFL = (TMM, MGX)', 'KDV = (KTD, BPD)', 'HLS = (RRC, PNL)', 'TQD = (QFF, PFQ)', 'SQD = (XHT, MXH)', 'PGN = (GLH, GCQ)', 'NMX = (NNG, JPL)', 'BLF = (LFL, SFQ)', 'XBB = (BGQ, FCL)', 'QSR = (GNB, RPH)', 'KSG = (FHL, KKJ)', 'HFG = (KVL, KDH)', 'TQS = (CKN, BTC)', 'FRF = (DDX, DGP)', 'DVC = (MGF, CLJ)', 'BTC = (CSD, QRD)', 'QXZ = (SSM, QQD)', 'QCX = (KDV, TXH)', 'DHL = (TSS, QHK)', 'CGM = (PHB, NRD)', 'DQQ = (DDX, DGP)', 'VNL = (LPX, HTQ)', 'BPD = (KKP, PNH)', 'LHQ = (PFS, JSB)', 'RKQ = (LDR, KTV)', 'GSK = (DMT, RBS)', 'FKC = (SQD, VMT)', 'BFC = (BJS, NDP)', 'JBX = (XPR, PGN)', 'FGG = (MBR, FCR)', 'TXN = (TVL, XRX)', 'HMN = (BPQ, XSP)', 'CCT = (FGH, MPS)', 'KQT = (CQN, GMV)', 'CVG = (FRV, KHB)', 'LPM = (VLM, RBH)', 'PLR = (FVB, GSR)', 'KXR = (HLB, HXJ)', 'NSK = (JQK, DXL)', 'QGL = (TQD, FQV)', 'VBB = (BPM, VTD)', 'FQV = (PFQ, QFF)', 'BJS = (JRL, KMX)', 'DSL = (RVS, MST)', 'PCM = (RLL, LKK)', 'RPQ = (HND, KJX)', 'JPT = (QGJ, RDM)', 'BSR = (BPH, LSM)', 'AAA = (KPT, QLD)', 'RPH = (LBV, KSN)', 'CTJ = (TPQ, KTL)', 'KDB = (BGT, LRJ)', 'TNG = (VPF, FQG)', 'CQN = (PQF, STD)', 'KJM = (TDD, TDD)', 'HKV = (LPD, LXP)', 'FDQ = (KBM, NFP)', 'FLQ = (RNC, CTJ)', 'HKD = (CKT, DTR)', 'VXD = (SKK, BHJ)', 'SLH = (KHM, RJJ)', 'GHL = (NBR, BJM)', 'TCB = (NVB, CTH)', 'PRJ = (JTB, BJQ)', 'CMP = (HFG, BLT)', 'VKM = (PGL, DNG)', 'MBG = (KRS, PCL)', 'PPC = (HJL, GSP)', 'FTT = (FDQ, KVR)', 'GDT = (NML, HDD)', 'PXC = (XBB, GJT)', 'VRV = (DHS, FKR)', 'GDN = (KPT, QLD)', 'DXL = (FTT, LNK)', 'LPD = (RTX, MTB)', 'FCD = (FLK, JCC)', 'HSX = (JNT, NLQ)', 'ZZZ = (QLD, KPT)', 'CNV = (CHC, SHX)', 'TRP = (VJJ, FMH)', 'CKD = (JKK, JKK)', 'BVR = (DKQ, JHM)', 'TBG = (LVG, SHF)', 'GQQ = (MKH, HKM)', 'QRG = (TCQ, NJQ)', 'SBH = (DSL, LVD)', 'BTM = (LRL, NDV)', 'FRH = (MBP, BFC)', 'PCP = (XVB, LHQ)', 'RKA = (BGX, BCX)', 'VNP = (LXN, RKM)', 'KLM = (JXT, GMQ)', 'BJM = (XNC, HKV)', 'NRS = (KPP, KVM)', 'DJT = (DVC, FGT)', 'GPG = (BBK, XDC)', 'MLD = (NJL, LHD)', 'LSS = (SFX, RRT)', 'VMT = (XHT, MXH)', 'FCQ = (PPN, CVG)', 'LRT = (XMS, BRN)', 'QKN = (MVR, HSR)', 'XDR = (NQM, LQT)', 'LHD = (QRG, JJP)', 'VHZ = (HFX, CVR)', 'DRT = (JLB, RNG)', 'VMF = (KSP, SGX)', 'PTL = (MKH, HKM)', 'FGT = (CLJ, MGF)', 'TJV = (SCG, RMF)', 'JKK = (BGX, BCX)', 'TFP = (HFG, BLT)', 'DDX = (PTH, RCS)', 'MPS = (CMP, TFP)', 'QTJ = (TVK, TVK)', 'TVL = (XKH, TQS)', 'BRN = (KSQ, KRP)', 'FCR = (MXD, SBM)', 'TJG = (CFF, CSS)', 'XVH = (LHP, TBT)', 'KBL = (SHX, CHC)', 'GPF = (GSR, FVB)', 'XRX = (TQS, XKH)', 'FMT = (QGL, SRR)', 'JQK = (FTT, LNK)', 'XNS = (LLH, RNH)', 'FTF = (CFM, PCP)', 'NLH = (SGF, MLD)', 'CTK = (VTP, DRT)', 'XJX = (DCG, TDF)', 'NDZ = (BCX, BGX)', 'GPK = (RKX, RMP)', 'FGF = (RXM, BSR)', 'HVQ = (VXJ, TSB)', 'KDF = (TLF, DPH)', 'TFD = (HSN, SBH)', 'LXN = (JDK, LBM)', 'RJJ = (NRL, NSK)', 'DLC = (GKT, KCC)', 'JSR = (NQM, LQT)', 'DKX = (PXC, LKM)', 'NNK = (KCC, GKT)', 'CSD = (QQB, JHV)', 'LKV = (JFQ, VMM)', 'KVL = (TTK, MNG)', 'PTH = (GPK, SPN)', 'JHK = (VKM, FPM)', 'GXN = (LLH, RNH)', 'FVB = (XRL, JSJ)', 'RBS = (KMM, PPC)', 'BGQ = (SLH, HPV)', 'QQQ = (GDN, ZZZ)', 'KFR = (BBK, XDC)', 'TDF = (SVV, KMP)', 'RSN = (FLQ, VKL)', 'TMH = (HQG, KDF)', 'QRD = (JHV, QQB)', 'MGX = (MVB, SGL)', 'JBR = (PJF, QRB)', 'GCQ = (GPF, PLR)', 'VKL = (RNC, CTJ)', 'RFM = (FCD, VFT)', 'QSD = (KHP, VSF)', 'BQB = (NRS, NXG)', 'GMQ = (TLP, TXN)', 'XMS = (KSQ, KRP)', 'LQT = (PRL, VGG)', 'HDG = (MRD, DGL)', 'QND = (TKQ, TNT)', 'JKF = (CNV, KBL)', 'TRR = (XXS, SXL)', 'XRT = (RPQ, DKC)', 'LQQ = (RQK, BSB)', 'VDS = (QQD, SSM)', 'MQP = (BVX, VNP)', 'PHB = (PGD, GHL)', 'NNG = (CBC, XFT)', 'KJD = (PBM, HQK)', 'FFD = (GRR, FVM)', 'NNT = (BHD, BLF)', 'CDP = (TNG, MBH)', 'FQP = (JKF, QST)', 'PRL = (XML, XML)', 'DPM = (QGJ, RDM)', 'NHT = (PBK, JGV)', 'PVG = (LPM, QFL)', 'NJQ = (TFJ, KTX)', 'SLM = (LNX, GHJ)', 'XML = (XJX, XJX)', 'XDM = (BCC, NLX)', 'LRF = (TLC, BDQ)', 'TLF = (QCV, TBV)', 'SGX = (NKL, DPG)', 'TMM = (MVB, SGL)', 'SHS = (DPD, HBN)', 'CHD = (GDN, GDN)', 'HTQ = (NCV, MJP)', 'SHX = (NDF, VKQ)', 'GXT = (LRF, BMG)', 'RKM = (JDK, LBM)', 'XHB = (BNL, GSK)', 'VKQ = (VMF, MDF)', 'KCC = (SVS, RBF)', 'PPX = (NFL, QVP)', 'CBC = (GNC, RQT)', 'PRV = (DDB, SNX)', 'SVF = (GGP, CTQ)', 'NFL = (VSG, QRS)', 'LHN = (BJT, FPR)', 'MLC = (HTQ, LPX)', 'DNR = (GGR, LQQ)', 'DPG = (TRR, GRQ)', 'BVB = (GFT, VRH)', 'DTR = (RQS, KQT)', 'SRK = (VTD, BPM)', 'KLN = (PQC, FPF)', 'JFT = (JKM, QKN)', 'HKL = (DVC, FGT)', 'BQD = (BVB, SNM)', 'RLL = (FNK, PBQ)', 'PNH = (XSN, KSB)', 'DKQ = (SLS, QMV)', 'BSB = (BQB, JQS)', 'VGG = (XML, CPF)', 'FNC = (VFC, PRV)', 'BDQ = (NLH, BGC)', 'NVB = (DQQ, FRF)', 'NDF = (MDF, VMF)', 'NQM = (PRL, PRL)', 'JVL = (SRP, GSB)', 'NXG = (KPP, KVM)', 'MPH = (LXH, SXV)', 'JNM = (TVK, CSR)', 'VFT = (FLK, JCC)', 'RFH = (FPF, PQC)', 'XQT = (KSG, LFP)', 'KPP = (CJJ, SNK)', 'XXS = (TRB, SBR)', 'PCL = (JVL, NPD)', 'HBN = (RSN, JJG)', 'TLC = (NLH, BGC)', 'JGP = (RMT, LCM)', 'DRG = (TFD, KFB)', 'FNQ = (HVJ, BCD)', 'DMT = (PPC, KMM)', 'SVS = (MCL, JBX)', 'GSV = (SRC, LKV)', 'BHJ = (BFN, KLB)', 'VPF = (QTJ, QTJ)', 'LRJ = (VDT, GDB)', 'TBL = (LRF, BMG)', 'SVV = (GDX, SLM)', 'NXH = (RFM, JFL)', 'FLK = (XQD, CTK)', 'PFQ = (JVR, NJN)', 'MVB = (KLN, RFH)', 'RBF = (MCL, JBX)', 'NRD = (GHL, PGD)', 'PPL = (KDV, TXH)', 'SXV = (QQM, NGC)', 'LNK = (FDQ, KVR)', 'SFX = (FNC, GKD)', 'FMH = (PCM, QLC)', 'HVJ = (GBB, PBR)', 'CSR = (DLG, GPZ)', 'QVP = (VSG, QRS)', 'QST = (CNV, KBL)', 'NTJ = (SVT, FKX)', 'GRQ = (XXS, SXL)', 'HSR = (GXN, XNS)', 'XRL = (LGJ, TJG)', 'SDV = (PNL, RRC)', 'MXH = (SMD, GDT)', 'KRS = (JVL, NPD)', 'TVK = (DLG, DLG)', 'FPF = (BQD, KJN)', 'SGB = (BQK, SVR)', 'KNF = (SHF, LVG)', 'TPQ = (NXV, LRD)', 'HDD = (GRM, XRT)', 'BGX = (HCX, TMH)', 'TTK = (LFG, KLM)', 'RTD = (KPM, XHB)', 'XSD = (QBB, VPV)', 'SNM = (GFT, VRH)', 'LPX = (NCV, MJP)', 'DDB = (RMX, NJJ)', 'MJB = (BVX, VNP)', 'JKS = (SKK, BHJ)', 'MDF = (SGX, KSP)', 'KHP = (FTJ, RKQ)', 'FGJ = (XSP, BPQ)', 'LKK = (FNK, PBQ)', 'CFM = (LHQ, XVB)', 'KKP = (KSB, XSN)', 'LVG = (NSV, MCF)', 'RKX = (FCQ, SNH)', 'NLD = (GGR, LQQ)', 'QMV = (MDM, CCT)', 'TCQ = (KTX, TFJ)', 'LXT = (JSR, XDR)', 'TFJ = (GHQ, QRL)', 'TMP = (LHP, TBT)', 'MDM = (FGH, MPS)', 'KVM = (CJJ, SNK)', 'LXP = (RTX, MTB)', 'DHB = (CVR, HFX)', 'SCG = (HTT, TCG)', 'TLM = (PJF, QRB)', 'CJJ = (JLP, JQJ)', 'CHB = (QNV, RPD)', 'JGV = (DHB, VHZ)', 'VSG = (VGS, BVR)', 'SKV = (FHB, BDD)', 'TSS = (RTR, XKP)', 'VNT = (CBK, CHB)', 'TDD = (VDS, VDS)', 'NDV = (DLT, JQP)', 'MBH = (VPF, FQG)', 'KJK = (KSG, LFP)', 'LRD = (SMB, DHL)', 'SRF = (PNP, KJD)', 'JDK = (DRG, QVX)', 'CCP = (SKD, BVG)', 'BML = (QSD, NLB)', 'SJR = (DJT, HKL)', 'SRC = (JFQ, VMM)', 'CTH = (FRF, DQQ)', 'BCC = (XKR, PNK)', 'MBR = (MXD, SBM)', 'JPL = (CBC, XFT)', 'JCH = (JSR, XDR)', 'JDS = (SJR, CKP)', 'PBK = (DHB, DHB)', 'QRB = (NGG, MRG)', 'LVN = (DMV, CMS)', 'QLH = (GNB, RPH)', 'NQT = (QND, HKQ)', 'FHB = (LJD, NNT)', 'QXM = (VRK, NTJ)', 'RDQ = (HLS, SDV)', 'KTD = (PNH, KKP)', 'KRP = (TRP, BLR)', 'VNC = (PNP, KJD)', 'DHS = (BXD, XPM)', 'XPX = (NQT, SXK)', 'KCG = (RVH, PJP)', 'HCX = (KDF, HQG)', 'NBR = (HKV, XNC)', 'TSV = (QFC, XSD)', 'SRQ = (SDV, HLS)', 'LBM = (DRG, QVX)', 'SHF = (NSV, MCF)', 'RRC = (PFN, JJC)', 'HKQ = (TKQ, TNT)', 'KKJ = (LSS, NDG)', 'LSM = (HDG, FBH)', 'VFC = (DDB, SNX)', 'CGX = (NLB, QSD)', 'RQT = (LJP, PRJ)', 'CJS = (BCC, NLX)', 'NKH = (CKT, DTR)', 'TSB = (CDP, RRG)', 'HSN = (DSL, LVD)', 'LNX = (KRF, KJV)', 'LHP = (CCJ, HRD)', 'RQQ = (FTF, GNQ)', 'GNB = (LBV, KSN)', 'PMR = (CHD, QQQ)', 'DGQ = (KXR, LNS)', 'RRG = (TNG, MBH)', 'FRV = (HPL, RQQ)', 'RNC = (TPQ, KTL)', 'HQG = (TLF, DPH)', 'JRH = (CTH, NVB)', 'DMV = (DHN, BTM)', 'RBT = (SGR, VKC)', 'JRL = (GSV, JRN)', 'FVM = (NLD, DNR)', 'KTV = (TQH, KCG)', 'SDF = (CKD, CKD)', 'LRM = (SVF, FBG)', 'RRT = (FNC, GKD)', 'LGQ = (LKM, PXC)', 'BDD = (LJD, NNT)', 'BGC = (MLD, SGF)', 'MQB = (SVF, FBG)', 'DQC = (XSH, CGM)', 'QFS = (VKM, FPM)', 'QQM = (XQV, BKB)', 'CBK = (RPD, QNV)', 'VRK = (SVT, FKX)', 'PQF = (MQP, MJB)', 'VSF = (RKQ, FTJ)', 'DKC = (HND, KJX)', 'HQK = (HHV, KMR)', 'SVR = (MBG, JCQ)', 'JCV = (BVC, HDB)', 'RMX = (VHR, VHR)', 'QLC = (RLL, LKK)', 'NJL = (QRG, JJP)', 'NDP = (JRL, KMX)', 'DNG = (PPL, QCX)', 'MCF = (GBV, VBV)', 'NJJ = (VHR, NHT)', 'SBR = (VDR, JDS)', 'NJN = (BML, CGX)', 'TBT = (HRD, CCJ)', 'PVF = (CKD, RKL)', 'KPM = (GSK, BNL)', 'PFR = (DLC, NNK)', 'BMG = (BDQ, TLC)', 'DHN = (NDV, LRL)', 'LXH = (QQM, NGC)', 'CSS = (RNF, FGG)', 'PQC = (KJN, BQD)', 'BJQ = (RCX, JRR)', 'VMM = (MTC, PPX)', 'XKS = (XMS, BRN)', 'XQP = (RXM, BSR)', 'SFF = (QSR, QLH)', 'BXD = (LXT, JCH)', 'SKK = (KLB, BFN)', 'FKR = (XPM, BXD)', 'VBV = (LSR, FKC)', 'PNL = (PFN, JJC)', 'KMM = (GSP, HJL)', 'JRR = (SDD, QXM)', 'XHT = (GDT, SMD)', 'NCV = (XKS, LRT)', 'HXJ = (VNL, MLC)', 'CVR = (LMK, GJD)', 'BKB = (DKX, LGQ)', 'JCQ = (KRS, PCL)', 'LVD = (MST, RVS)', 'LBA = (XQJ, PFH)', 'GXQ = (LRJ, BGT)', 'PFN = (FQP, TSR)', 'PSK = (FMT, HVX)', 'GSP = (JSD, FNQ)', 'JLB = (NQX, KFL)', 'SNH = (CVG, PPN)', 'BPH = (HDG, FBH)', 'NRL = (JQK, DXL)', 'NLB = (VSF, KHP)', 'RNH = (TMP, XVH)', 'GSB = (QQK, FRH)', 'HLB = (MLC, VNL)', 'BCX = (HCX, TMH)', 'RMT = (SBD, JFT)', 'SNX = (RMX, NJJ)', 'HMF = (SHS, HNL)', 'HPV = (RJJ, KHM)', 'LCK = (BDD, FHB)', 'BLT = (KVL, KDH)', 'CKP = (DJT, HKL)', 'NGG = (KFG, SFF)', 'CPF = (XJX, MTZ)', 'PJP = (HVQ, DLP)', 'XSP = (XHD, SGB)', 'JQP = (JBR, TLM)', 'HVX = (SRR, QGL)', 'PNP = (HQK, PBM)', 'RTN = (FGF, XQP)', 'JQS = (NXG, NRS)', 'PVH = (DGQ, TRF)', 'XHD = (BQK, SVR)', 'CXG = (VNC, SRF)', 'MTC = (NFL, QVP)', 'QLD = (KVJ, LKJ)', 'RNF = (MBR, FCR)', 'JXT = (TXN, TLP)', 'LSH = (QFC, XSD)', 'XPR = (GCQ, GLH)', 'KSP = (NKL, DPG)', 'DGP = (PTH, RCS)', 'RDM = (LHN, QBH)', 'MST = (NMX, QSC)', 'GRR = (DNR, NLD)', 'BBK = (KNF, TBG)', 'PBM = (HHV, KMR)', 'SPN = (RKX, RMP)', 'KJV = (XGB, CJN)', 'QGJ = (LHN, QBH)', 'CLJ = (LRM, MQB)', 'LGJ = (CSS, CFF)', 'PBQ = (SDF, PVF)', 'VLM = (JKS, VXD)', 'TLP = (XRX, TVL)', 'LFG = (GMQ, JXT)', 'VKC = (VRV, JLL)', 'XQJ = (LVN, GMJ)', 'CHC = (NDF, VKQ)', 'VGS = (JHM, DKQ)', 'FCL = (SLH, HPV)', 'LMB = (FMT, HVX)', 'GJD = (XDM, CJS)', 'PCV = (XHB, KPM)', 'JNT = (PSK, LMB)', 'SXK = (QND, HKQ)', 'HCH = (XQT, KJK)', 'DGL = (JLV, PMR)', 'RCS = (GPK, SPN)', 'JHM = (SLS, QMV)', 'JFQ = (PPX, MTC)', 'KSQ = (TRP, BLR)', 'BVG = (BTV, XPX)', 'NDG = (RRT, SFX)', 'GKD = (PRV, VFC)', 'GJT = (BGQ, FCL)', 'GRM = (DKC, RPQ)', 'KBM = (JPT, DPM)', 'VMJ = (LXH, SXV)', 'GDB = (RBT, LLJ)', 'KTL = (LRD, NXV)', 'JMA = (CVR, HFX)', 'NTS = (BVG, SKD)', 'TBV = (GPG, KFR)', 'KFB = (HSN, SBH)', 'JLL = (FKR, DHS)', 'LDR = (TQH, KCG)', 'QBH = (BJT, FPR)', 'KLB = (DNL, FVH)', 'JQJ = (RBV, TLD)', 'GGP = (QFS, JHK)', 'GSR = (JSJ, XRL)', 'RTR = (HMN, FGJ)', 'SMD = (HDD, NML)', 'CJK = (TRF, DGQ)', 'LCM = (SBD, JFT)', 'FTJ = (KTV, LDR)', 'SNK = (JQJ, JLP)', 'TNS = (CCP, NTS)', 'FKX = (LSH, TSV)', 'JKM = (MVR, HSR)', 'RMP = (FCQ, SNH)', 'RBV = (RGG, HSX)', 'NGC = (XQV, BKB)', 'LFP = (KKJ, FHL)', 'SXL = (TRB, SBR)', 'NLQ = (PSK, LMB)', 'BPQ = (XHD, SGB)', 'QNV = (RDQ, SRQ)', 'HVB = (PCV, RTD)', 'GHJ = (KJV, KRF)', 'JFL = (VFT, FCD)', 'KMX = (JRN, GSV)', 'VXJ = (CDP, RRG)', 'DNL = (KDB, GXQ)', 'JSD = (BCD, HVJ)', 'TRB = (JDS, VDR)', 'KVR = (KBM, NFP)', 'NPD = (GSB, SRP)', 'XVB = (PFS, JSB)', 'GGR = (BSB, RQK)', 'CMS = (BTM, DHN)', 'GHQ = (HVB, DKP)', 'KCM = (CCP, NTS)', 'GBB = (SRK, VBB)']\n",
      "GLH = (GPF, PLR)\n"
     ]
    }
   ],
   "source": [
    "# test parse first node\n",
    "Node(NODES_LIST[0])\n",
    "\n",
    "\n",
    "print(NODES_LIST)\n",
    "print(NODES_LIST[7 % len(NODES_LIST)])"
   ]
  },
  {
   "cell_type": "code",
   "execution_count": 17,
   "metadata": {},
   "outputs": [
    {
     "data": {
      "text/plain": [
       "AAA -> KPT, QLD"
      ]
     },
     "execution_count": 17,
     "metadata": {},
     "output_type": "execute_result"
    }
   ],
   "source": [
    "# Node dictionary to make it easier to look up nodes\n",
    "nodes_dict = {node.name: node for node in [Node(node_text) for node_text in NODES_LIST]}\n",
    "nodes_dict[\"AAA\"]"
   ]
  },
  {
   "cell_type": "code",
   "execution_count": 18,
   "metadata": {},
   "outputs": [
    {
     "name": "stdout",
     "output_type": "stream",
     "text": [
      "> Took 20659 steps to get to ZZZ\n"
     ]
    }
   ],
   "source": [
    "curr_node = nodes_dict[\"AAA\"]\n",
    "i = 0\n",
    "while (curr_node.name != \"ZZZ\"):\n",
    "    instruction = INSTRUCTIONS[i % len(INSTRUCTIONS)]\n",
    "    next_node_name = curr_node.next(instruction)\n",
    "    next_node = nodes_dict[next_node_name]\n",
    "    # print(f\"i: {i} ({instruction}): {curr_node} ==> {next_node.name}\")\n",
    "    i += 1\n",
    "    curr_node = next_node\n",
    "\n",
    "print(f\"> Took {i} steps to get to ZZZ\")\n",
    "\n"
   ]
  },
  {
   "cell_type": "markdown",
   "metadata": {},
   "source": [
    "# Part 2"
   ]
  },
  {
   "cell_type": "code",
   "execution_count": 54,
   "metadata": {},
   "outputs": [
    {
     "name": "stdout",
     "output_type": "stream",
     "text": [
      "INSTRUCTIONS: ['L', 'R', 'L', 'R', 'L', 'L', 'R', 'R', 'L', 'R', 'R', 'R', 'L', 'R', 'L', 'R', 'R', 'L', 'R', 'L', 'L', 'R', 'R', 'L', 'R', 'R', 'R', 'L', 'R', 'L', 'R', 'L', 'R', 'L', 'R', 'R', 'L', 'R', 'L', 'L', 'R', 'R', 'R', 'L', 'R', 'R', 'R', 'L', 'L', 'R', 'R', 'L', 'R', 'R', 'L', 'R', 'L', 'R', 'R', 'R', 'L', 'L', 'L', 'R', 'R', 'L', 'R', 'L', 'R', 'L', 'R', 'L', 'R', 'L', 'R', 'L', 'L', 'R', 'R', 'R', 'L', 'R', 'L', 'R', 'R', 'R', 'L', 'R', 'R', 'R', 'L', 'R', 'R', 'R', 'L', 'R', 'R', 'R', 'L', 'R', 'R', 'R', 'L', 'R', 'R', 'R', 'L', 'R', 'R', 'R', 'L', 'R', 'R', 'L', 'R', 'R', 'R', 'L', 'L', 'R', 'L', 'L', 'R', 'R', 'L', 'R', 'R', 'L', 'R', 'R', 'L', 'R', 'R', 'R', 'L', 'L', 'R', 'L', 'R', 'R', 'L', 'R', 'L', 'R', 'L', 'R', 'R', 'L', 'L', 'R', 'L', 'R', 'R', 'R', 'L', 'R', 'R', 'L', 'L', 'R', 'L', 'R', 'L', 'R', 'R', 'R', 'L', 'R', 'R', 'L', 'R', 'R', 'L', 'R', 'R', 'L', 'R', 'L', 'L', 'R', 'L', 'R', 'R', 'R', 'L', 'L', 'L', 'R', 'R', 'R', 'L', 'L', 'L', 'L', 'R', 'R', 'L', 'R', 'R', 'R', 'L', 'L', 'L', 'R', 'R', 'L', 'L', 'R', 'L', 'R', 'L', 'R', 'L', 'L', 'L', 'R', 'R', 'R', 'L', 'L', 'R', 'R', 'R', 'L', 'L', 'L', 'R', 'L', 'R', 'R', 'L', 'L', 'R', 'R', 'R', 'L', 'R', 'R', 'R', 'L', 'R', 'L', 'L', 'R', 'R', 'R', 'L', 'R', 'L', 'R', 'L', 'R', 'L', 'L', 'R', 'R', 'L', 'L', 'R', 'R', 'L', 'R', 'R', 'R', 'L', 'R', 'L', 'R', 'R', 'R', 'L', 'R', 'R', 'L', 'R', 'L', 'R', 'R', 'L', 'R', 'R', 'R', 'R']\n",
      "NODES_LIST: ['SGR = (JLL, VRV)', 'XDC = (TBG, KNF)', 'QRS = (BVR, VGS)', 'BHD = (SFQ, LFL)', 'KJN = (BVB, SNM)', 'MVR = (XNS, GXN)', 'KTX = (GHQ, QRL)', 'GLH = (GPF, PLR)', 'XKH = (BTC, CKN)', 'MXM = (HDB, BVC)']\n",
      "STARTING_NODES: ['QKA', 'VMA', 'AAA', 'RKA', 'LBA', 'JMA']\n"
     ]
    }
   ],
   "source": [
    "lines = open(\"example3.txt\").readlines()\n",
    "lines = open(\"input.txt\").readlines()\n",
    "\n",
    "\n",
    "# ############################################################################\n",
    "# clean the lines\n",
    "\n",
    "\n",
    "INSTRUCTIONS = [letter for letter in lines[0] if letter != \"\\n\"]\n",
    "NODES_LIST = [node.strip(\"\\n\") for node in lines[1:] if node != \"\\n\"]\n",
    "\n",
    "\n",
    "print(f\"INSTRUCTIONS: {INSTRUCTIONS}\")\n",
    "print(f\"NODES_LIST: {NODES_LIST[:10]}\")\n",
    "NODES_LIST[0]\n",
    "\n",
    "\n",
    "# ############################################################################\n",
    "# Node dictionary to make it easier to look up nodes\n",
    "nodes_dict = {node.name: node for node in [Node(node_text) for node_text in NODES_LIST]}\n",
    "starting_nodes = [nodes for nodes in nodes_dict if nodes.endswith(\"A\")]\n",
    "print(f\"STARTING_NODES: {starting_nodes}\")"
   ]
  },
  {
   "cell_type": "code",
   "execution_count": 58,
   "metadata": {},
   "outputs": [
    {
     "name": "stdout",
     "output_type": "stream",
     "text": [
      "i: 1000000\n",
      "i: 2000000\n",
      "i: 3000000\n",
      "i: 4000000\n",
      "i: 5000000\n",
      "i: 6000000\n",
      "i: 7000000\n",
      "i: 8000000\n"
     ]
    },
    {
     "ename": "KeyboardInterrupt",
     "evalue": "",
     "output_type": "error",
     "traceback": [
      "\u001b[1;31m---------------------------------------------------------------------------\u001b[0m",
      "\u001b[1;31mKeyboardInterrupt\u001b[0m                         Traceback (most recent call last)",
      "Cell \u001b[1;32mIn[58], line 11\u001b[0m\n\u001b[0;32m      8\u001b[0m next_nodes_names \u001b[38;5;241m=\u001b[39m [node\u001b[38;5;241m.\u001b[39mnext(instruction) \u001b[38;5;28;01mfor\u001b[39;00m node \u001b[38;5;129;01min\u001b[39;00m curr_nodes]\n\u001b[0;32m      9\u001b[0m \u001b[38;5;66;03m# print(f\"i: {i} ({instruction}): {curr_nodes_names}\")\u001b[39;00m\n\u001b[0;32m     10\u001b[0m \u001b[38;5;66;03m# time.sleep(1)\u001b[39;00m\n\u001b[1;32m---> 11\u001b[0m curr_nodes \u001b[38;5;241m=\u001b[39m [nodes_dict[name] \u001b[38;5;28;01mfor\u001b[39;00m name \u001b[38;5;129;01min\u001b[39;00m next_nodes_names]\n\u001b[0;32m     12\u001b[0m i \u001b[38;5;241m+\u001b[39m\u001b[38;5;241m=\u001b[39m \u001b[38;5;241m1\u001b[39m\n\u001b[0;32m     13\u001b[0m \u001b[38;5;28;01mif\u001b[39;00m (i \u001b[38;5;241m%\u001b[39m \u001b[38;5;241m1000000\u001b[39m \u001b[38;5;241m==\u001b[39m \u001b[38;5;241m0\u001b[39m): \u001b[38;5;28mprint\u001b[39m(\u001b[38;5;124mf\u001b[39m\u001b[38;5;124m\"\u001b[39m\u001b[38;5;124mi: \u001b[39m\u001b[38;5;132;01m{\u001b[39;00mi\u001b[38;5;132;01m}\u001b[39;00m\u001b[38;5;124m\"\u001b[39m)\n",
      "Cell \u001b[1;32mIn[58], line 11\u001b[0m, in \u001b[0;36m<listcomp>\u001b[1;34m(.0)\u001b[0m\n\u001b[0;32m      8\u001b[0m next_nodes_names \u001b[38;5;241m=\u001b[39m [node\u001b[38;5;241m.\u001b[39mnext(instruction) \u001b[38;5;28;01mfor\u001b[39;00m node \u001b[38;5;129;01min\u001b[39;00m curr_nodes]\n\u001b[0;32m      9\u001b[0m \u001b[38;5;66;03m# print(f\"i: {i} ({instruction}): {curr_nodes_names}\")\u001b[39;00m\n\u001b[0;32m     10\u001b[0m \u001b[38;5;66;03m# time.sleep(1)\u001b[39;00m\n\u001b[1;32m---> 11\u001b[0m curr_nodes \u001b[38;5;241m=\u001b[39m [nodes_dict[name] \u001b[38;5;28;01mfor\u001b[39;00m name \u001b[38;5;129;01min\u001b[39;00m next_nodes_names]\n\u001b[0;32m     12\u001b[0m i \u001b[38;5;241m+\u001b[39m\u001b[38;5;241m=\u001b[39m \u001b[38;5;241m1\u001b[39m\n\u001b[0;32m     13\u001b[0m \u001b[38;5;28;01mif\u001b[39;00m (i \u001b[38;5;241m%\u001b[39m \u001b[38;5;241m1000000\u001b[39m \u001b[38;5;241m==\u001b[39m \u001b[38;5;241m0\u001b[39m): \u001b[38;5;28mprint\u001b[39m(\u001b[38;5;124mf\u001b[39m\u001b[38;5;124m\"\u001b[39m\u001b[38;5;124mi: \u001b[39m\u001b[38;5;132;01m{\u001b[39;00mi\u001b[38;5;132;01m}\u001b[39;00m\u001b[38;5;124m\"\u001b[39m)\n",
      "\u001b[1;31mKeyboardInterrupt\u001b[0m: "
     ]
    }
   ],
   "source": [
    "import time \n",
    "\n",
    "curr_nodes = [nodes_dict[node] for node in starting_nodes]\n",
    "i = 0\n",
    "while ( not all( [node.name.endswith(\"Z\") for node in curr_nodes] ) ):\n",
    "    instruction = INSTRUCTIONS[i % len(INSTRUCTIONS)]\n",
    "    curr_nodes_names = [node.name for node in curr_nodes]\n",
    "    next_nodes_names = [node.next(instruction) for node in curr_nodes]\n",
    "    # print(f\"i: {i} ({instruction}): {curr_nodes_names}\")\n",
    "    # time.sleep(1)\n",
    "    curr_nodes = [nodes_dict[name] for name in next_nodes_names]\n",
    "    i += 1\n",
    "    if (i % 1000000 == 0): print(f\"i: {i}\")\n",
    "\n",
    "print(f\"> Took {i} steps to get to ZZZ\")\n",
    "\n",
    "\n",
    "\n"
   ]
  },
  {
   "cell_type": "markdown",
   "metadata": {},
   "source": [
    "# P2 solution from Reddit"
   ]
  },
  {
   "cell_type": "code",
   "execution_count": 61,
   "metadata": {},
   "outputs": [
    {
     "name": "stdout",
     "output_type": "stream",
     "text": [
      "p1 20659\n",
      " - 12169\n",
      " - 20093\n",
      " - 20659\n",
      " - 22357\n",
      " - 13301\n",
      " - 18961\n",
      "p2 15690466351717\n"
     ]
    }
   ],
   "source": [
    "ll = [x for x in open(\"input.txt\").read().strip().split('\\n\\n')]\n",
    "import math\n",
    "inst = list(ll[0])\n",
    "conn = {}\n",
    "for l in ll[1].split(\"\\n\"):\n",
    "\ta = l.split(\" \")[0]\n",
    "\tb = l.split(\"(\")[1].split(\",\")[0]\n",
    "\tc = l.split(\" \")[3].split(\")\")[0]\n",
    "\tconn[a] = (b, c)\n",
    "pos = 'AAA'\n",
    "idx = 0\n",
    "while pos != 'ZZZ':\n",
    "\td = inst[idx%len(inst)]\n",
    "\tpos = conn[pos][0 if d=='L' else 1]\n",
    "\tidx += 1\n",
    "print(\"p1\", idx)\n",
    "def solvesteps(start):\n",
    "\tpos = start\n",
    "\tidx = 0\n",
    "\twhile not pos.endswith('Z'):\n",
    "\t\td = inst[idx%len(inst)]\n",
    "\t\tpos = conn[pos][0 if d=='L' else 1]\n",
    "\t\tidx += 1\n",
    "\treturn idx\n",
    "ret = 1\n",
    "for start in conn:\n",
    "\tif start.endswith('A'):\n",
    "\t\ttmp = solvesteps(start)\n",
    "\t\tprint(\" -\", tmp)\n",
    "\t\tret = math.lcm(ret, tmp)\n",
    "print(\"p2\", ret)\n",
    "\n",
    "# 15.690.466.351.717"
   ]
  },
  {
   "cell_type": "code",
   "execution_count": null,
   "metadata": {},
   "outputs": [],
   "source": []
  }
 ],
 "metadata": {
  "kernelspec": {
   "display_name": "Python 3",
   "language": "python",
   "name": "python3"
  },
  "language_info": {
   "codemirror_mode": {
    "name": "ipython",
    "version": 3
   },
   "file_extension": ".py",
   "mimetype": "text/x-python",
   "name": "python",
   "nbconvert_exporter": "python",
   "pygments_lexer": "ipython3",
   "version": "3.10.11"
  }
 },
 "nbformat": 4,
 "nbformat_minor": 2
}
