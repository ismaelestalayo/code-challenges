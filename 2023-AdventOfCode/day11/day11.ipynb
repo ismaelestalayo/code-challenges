{
 "cells": [
  {
   "cell_type": "code",
   "execution_count": 90,
   "metadata": {},
   "outputs": [
    {
     "data": {
      "text/plain": [
       "['...#......',\n",
       " '.......#..',\n",
       " '#.........',\n",
       " '..........',\n",
       " '......#...',\n",
       " '.#........',\n",
       " '.........#',\n",
       " '..........',\n",
       " '.......#..',\n",
       " '#...#.....']"
      ]
     },
     "execution_count": 90,
     "metadata": {},
     "output_type": "execute_result"
    }
   ],
   "source": [
    "import re\n",
    "\n",
    "\n",
    "lines = open(\"input.txt\").read()\n",
    "lines = open(\"example1.txt\").read()\n",
    "\n",
    "\n",
    "# ############################################################################\n",
    "# clean the lines\n",
    "lines = lines.split(\"\\n\")\n",
    "lines[:10]\n"
   ]
  },
  {
   "cell_type": "code",
   "execution_count": 91,
   "metadata": {},
   "outputs": [
    {
     "name": "stdout",
     "output_type": "stream",
     "text": [
      "....#........\n",
      ".........#...\n",
      "#............\n",
      ".............\n",
      ".............\n",
      "........#....\n",
      ".#...........\n",
      "............#\n",
      ".............\n",
      ".............\n"
     ]
    }
   ],
   "source": [
    "def expand_empty_space(lines):\n",
    "    lines_copy = lines.copy()\n",
    "    i = 0\n",
    "    for line in lines:\n",
    "        if \"#\" not in line:\n",
    "            lines_copy.insert(i, \".\" * len(line))\n",
    "            i += 1\n",
    "        i += 1\n",
    "    return lines_copy\n",
    "\n",
    "\n",
    "# Expand empty columns and rows\n",
    "new_lines = expand_empty_space(lines)\n",
    "\n",
    "# Transpose the 2D list\n",
    "new_lines = list(map(list, zip(*new_lines)))\n",
    "new_lines = expand_empty_space(new_lines)\n",
    "\n",
    "# Transpose again\n",
    "new_lines = list(map(list, zip(*new_lines)))\n",
    "\n",
    "\n",
    "_ = [print(\"\".join(line)) for line in new_lines[:10]]"
   ]
  },
  {
   "cell_type": "code",
   "execution_count": 92,
   "metadata": {},
   "outputs": [
    {
     "name": "stdout",
     "output_type": "stream",
     "text": [
      "ALL_GALAXY_COORDS: [(0, 4), (1, 9), (2, 0), (5, 8), (6, 1), (7, 12), (10, 9), (11, 0), (11, 5)]\n"
     ]
    },
    {
     "data": {
      "text/plain": [
       "17"
      ]
     },
     "execution_count": 92,
     "metadata": {},
     "output_type": "execute_result"
    }
   ],
   "source": [
    "from functools import lru_cache\n",
    "\n",
    "@lru_cache(maxsize=None)\n",
    "def calculate_distance(coord1, coord2):\n",
    "    distance = sum([\n",
    "        abs(coord1[0] - coord2[0]),\n",
    "        abs(coord1[1] - coord2[1])\n",
    "    ])\n",
    "    # print(f\"CALCULATE DISTANCE {coord1} --> {coord2} = {distance}\")\n",
    "    return distance\n",
    "\n",
    "ALL_GALAXY_COORDS = []\n",
    "for row_num, line in enumerate(new_lines):\n",
    "    galaxy_coords = [(row_num, i) for i, c in enumerate(line) if c == \"#\"]\n",
    "    [ALL_GALAXY_COORDS.append(gc) for gc in galaxy_coords]\n",
    "\n",
    "print(f\"ALL_GALAXY_COORDS: {ALL_GALAXY_COORDS}\")\n",
    "\n",
    "calculate_distance(ALL_GALAXY_COORDS[3 - 1], ALL_GALAXY_COORDS[6 - 1])"
   ]
  },
  {
   "cell_type": "code",
   "execution_count": 93,
   "metadata": {},
   "outputs": [
    {
     "name": "stdout",
     "output_type": "stream",
     "text": [
      "[(0, 4), (1, 9), (2, 0), (5, 8), (6, 1), (7, 12), (10, 9), (11, 0), (11, 5)]\n",
      "(0, 4) -> (0, 4) --> 0\n",
      "(0, 4) -> (1, 9) --> 6\n",
      "(0, 4) -> (2, 0) --> 6\n",
      "(0, 4) -> (5, 8) --> 9\n",
      "(0, 4) -> (6, 1) --> 9\n",
      "(0, 4) -> (7, 12) --> 15\n",
      "(0, 4) -> (10, 9) --> 15\n",
      "(0, 4) -> (11, 0) --> 15\n",
      "(0, 4) -> (11, 5) --> 12\n",
      "(1, 9) -> (1, 9) --> 0\n",
      "(1, 9) -> (2, 0) --> 10\n",
      "(1, 9) -> (5, 8) --> 5\n",
      "(1, 9) -> (6, 1) --> 13\n",
      "(1, 9) -> (7, 12) --> 9\n",
      "(1, 9) -> (10, 9) --> 9\n",
      "(1, 9) -> (11, 0) --> 19\n",
      "(1, 9) -> (11, 5) --> 14\n",
      "(2, 0) -> (2, 0) --> 0\n",
      "(2, 0) -> (5, 8) --> 11\n",
      "(2, 0) -> (6, 1) --> 5\n",
      "(2, 0) -> (7, 12) --> 17\n",
      "(2, 0) -> (10, 9) --> 17\n",
      "(2, 0) -> (11, 0) --> 9\n",
      "(2, 0) -> (11, 5) --> 14\n",
      "(5, 8) -> (5, 8) --> 0\n",
      "(5, 8) -> (6, 1) --> 8\n",
      "(5, 8) -> (7, 12) --> 6\n",
      "(5, 8) -> (10, 9) --> 6\n",
      "(5, 8) -> (11, 0) --> 14\n",
      "(5, 8) -> (11, 5) --> 9\n",
      "(6, 1) -> (6, 1) --> 0\n",
      "(6, 1) -> (7, 12) --> 12\n",
      "(6, 1) -> (10, 9) --> 12\n",
      "(6, 1) -> (11, 0) --> 6\n",
      "(6, 1) -> (11, 5) --> 9\n",
      "(7, 12) -> (7, 12) --> 0\n",
      "(7, 12) -> (10, 9) --> 6\n",
      "(7, 12) -> (11, 0) --> 16\n",
      "(7, 12) -> (11, 5) --> 11\n",
      "(10, 9) -> (10, 9) --> 0\n",
      "(10, 9) -> (11, 0) --> 10\n",
      "(10, 9) -> (11, 5) --> 5\n",
      "(11, 0) -> (11, 0) --> 0\n",
      "(11, 0) -> (11, 5) --> 5\n",
      "(11, 5) -> (11, 5) --> 0\n"
     ]
    },
    {
     "data": {
      "text/plain": [
       "374"
      ]
     },
     "execution_count": 93,
     "metadata": {},
     "output_type": "execute_result"
    }
   ],
   "source": [
    "ALL_GALAXY_COORDS = []\n",
    "for row_num, line in enumerate(new_lines):\n",
    "    galaxy_coords = [(row_num, i) for i, c in enumerate(line) if c == \"#\"]\n",
    "    [ALL_GALAXY_COORDS.append(gc) for gc in galaxy_coords]\n",
    "\n",
    "print(ALL_GALAXY_COORDS)\n",
    "\n",
    "GALAXY_DISTANCES = { }\n",
    "for i, galaxy_coords in enumerate(ALL_GALAXY_COORDS):\n",
    "    # ALL_GALAXY_COORDS.remove(galaxy_coords)\n",
    "    for other_galaxy_coords in ALL_GALAXY_COORDS[i:]:\n",
    "        dist = calculate_distance(galaxy_coords, other_galaxy_coords)\n",
    "        cust_key = f\"{galaxy_coords} -> {other_galaxy_coords}\"\n",
    "        curr_max_dist = GALAXY_DISTANCES.get(cust_key, 0)\n",
    "        GALAXY_DISTANCES[cust_key] = max(dist, curr_max_dist)\n",
    "\n",
    "\n",
    "_ = [print(gc, \"-->\",  GALAXY_DISTANCES[gc]) for gc in GALAXY_DISTANCES]\n",
    "\n",
    "sum([GALAXY_DISTANCES[gd] for gd in GALAXY_DISTANCES])"
   ]
  },
  {
   "cell_type": "markdown",
   "metadata": {},
   "source": [
    "Solution: 9.522.407  (9522407)\n",
    "\n",
    "<br>\n",
    "\n",
    "\n",
    "---\n",
    "\n",
    "# Part 2"
   ]
  },
  {
   "cell_type": "code",
   "execution_count": 42,
   "metadata": {},
   "outputs": [
    {
     "name": "stdout",
     "output_type": "stream",
     "text": [
      ".....................#..................#..................................................................#...........#....................\n",
      "................................................................#..................#........................................................\n",
      "..........................#.....#.............................................................#........#..................................#.\n",
      "...#.......#...........................................#........................................................#...........................\n",
      "............................................................................................................................................\n",
      "........................................................................#.....#.................................................#......#....\n",
      "...............................................#.................#...................#......#..............#................................\n",
      ".................#.................#.....................................................................................#.................#\n",
      "......................#....................................................#................................................................\n",
      "...........#.......................................................................................#........................................\n",
      "EMPTY_ROWS, EMPTY_COLS: [4, 57, 73, 74, 83, 90], [52, 54, 61, 70, 73, 74, 114]\n"
     ]
    }
   ],
   "source": [
    "import re\n",
    "\n",
    "\n",
    "lines = open(\"example1.txt\").read()\n",
    "lines = open(\"input.txt\").read()\n",
    "\n",
    "\n",
    "# ############################################################################\n",
    "# clean the lines\n",
    "lines = lines.split(\"\\n\")\n",
    "\n",
    "\n",
    "\n",
    "def get_empty_lines_indexes(lines):\n",
    "    empty_lines = []\n",
    "    i = 0\n",
    "    for i, line in enumerate(lines):\n",
    "        if \"#\" not in line:\n",
    "            empty_lines.append(i)\n",
    "    return empty_lines\n",
    "\n",
    "\n",
    "# Expand empty columns and rows\n",
    "EMPTY_ROWS = get_empty_lines_indexes(lines)\n",
    "\n",
    "# Transpose the 2D list\n",
    "transposed = list(map(list, zip(*lines)))\n",
    "EMPTY_COLS = get_empty_lines_indexes(transposed)\n",
    "\n",
    "\n",
    "_ = [print(l) for l in lines[:10]]\n",
    "print(f\"EMPTY_ROWS, EMPTY_COLS: {EMPTY_ROWS}, {EMPTY_COLS}\")"
   ]
  },
  {
   "cell_type": "code",
   "execution_count": 48,
   "metadata": {},
   "outputs": [
    {
     "data": {
      "text/plain": [
       "544723432977"
      ]
     },
     "execution_count": 48,
     "metadata": {},
     "output_type": "execute_result"
    }
   ],
   "source": [
    "from functools import lru_cache\n",
    "\n",
    "@lru_cache(maxsize=None)\n",
    "def calculate_distance(coord1, coord2):\n",
    "    AUGMENTATION = 1000000 - 1\n",
    "    distance = sum([\n",
    "        abs(coord1[0] - coord2[0]),\n",
    "        abs(coord1[1] - coord2[1])\n",
    "    ])\n",
    "    for empty_row in EMPTY_ROWS:\n",
    "        x1, x2 = min(coord1[0], coord2[0]), max(coord1[0], coord2[0])\n",
    "        if x1 <= empty_row <= x2:\n",
    "            distance += AUGMENTATION\n",
    "    for empty_col in EMPTY_COLS:\n",
    "        y1, y2 = min(coord1[1], coord2[1]), max(coord1[1], coord2[1])\n",
    "        if y1 <= empty_col <= y2:\n",
    "            distance += AUGMENTATION\n",
    "    return distance\n",
    "\n",
    "\n",
    "ALL_GALAXY_COORDS = []\n",
    "for row_num, line in enumerate(lines):\n",
    "    galaxy_coords = [(row_num, i) for i, c in enumerate(line) if c == \"#\"]\n",
    "    [ALL_GALAXY_COORDS.append(gc) for gc in galaxy_coords]\n",
    "\n",
    "\n",
    "\n",
    "GALAXY_DISTANCES = { }\n",
    "for i, galaxy_coords in enumerate(ALL_GALAXY_COORDS):\n",
    "    # ALL_GALAXY_COORDS.remove(galaxy_coords)\n",
    "    for other_galaxy_coords in ALL_GALAXY_COORDS[i:]:\n",
    "        dist = calculate_distance(galaxy_coords, other_galaxy_coords)\n",
    "        cust_key = f\"{galaxy_coords} -> {other_galaxy_coords}\"\n",
    "        curr_min_dist = GALAXY_DISTANCES.get(cust_key, 999999999)\n",
    "        GALAXY_DISTANCES[cust_key] = min(dist, curr_min_dist)\n",
    "\n",
    "\n",
    "\n",
    "sum([GALAXY_DISTANCES[gd] for gd in GALAXY_DISTANCES])\n",
    "# 544723432977 "
   ]
  },
  {
   "cell_type": "markdown",
   "metadata": {},
   "source": [
    "Solution: 544.723.432.977 (544723432977)"
   ]
  }
 ],
 "metadata": {
  "kernelspec": {
   "display_name": "Python 3",
   "language": "python",
   "name": "python3"
  },
  "language_info": {
   "codemirror_mode": {
    "name": "ipython",
    "version": 3
   },
   "file_extension": ".py",
   "mimetype": "text/x-python",
   "name": "python",
   "nbconvert_exporter": "python",
   "pygments_lexer": "ipython3",
   "version": "3.7.9"
  }
 },
 "nbformat": 4,
 "nbformat_minor": 2
}
