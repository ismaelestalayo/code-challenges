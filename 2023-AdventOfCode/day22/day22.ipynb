{
 "cells": [
  {
   "cell_type": "code",
   "execution_count": 28,
   "metadata": {},
   "outputs": [
    {
     "data": {
      "text/plain": [
       "['1,0,1~1,2,1',\n",
       " '0,0,2~2,0,2',\n",
       " '0,2,3~2,2,3',\n",
       " '0,0,4~0,2,4',\n",
       " '2,0,5~2,2,5',\n",
       " '0,1,6~2,1,6',\n",
       " '1,1,8~1,1,9']"
      ]
     },
     "execution_count": 28,
     "metadata": {},
     "output_type": "execute_result"
    }
   ],
   "source": [
    "import re\n",
    "\n",
    "\n",
    "lines = open(\"input.txt\").read().split(\"\\n\")\n",
    "lines = open(\"example.txt\").read().split(\"\\n\")\n",
    "\n",
    "lines"
   ]
  },
  {
   "cell_type": "code",
   "execution_count": 51,
   "metadata": {},
   "outputs": [],
   "source": [
    "class Brick:    \n",
    "    def __init__(self, xyzs):\n",
    "        xyz1, xyz2 = xyzs.split(\"~\")\n",
    "        x1, y1, z1 = xyz1.split(\",\")\n",
    "        x2, y2, z2 = xyz2.split(\",\")\n",
    "        self.x1 = int(x1)\n",
    "        self.y1 = int(y1)\n",
    "        self.z1 = int(z1)\n",
    "        self.x2, self.y2, self.z2 = int(x2),int(y2),int(z2)\n",
    "        self.canGoLower = True\n",
    "\n",
    "    def __repr__(self):\n",
    "        return f\"Brick({self.x1},{self.y1},{self.z1} -> {self.x2},{self.y2},{self.z2})\"\n",
    "    \n",
    "    def __str__(self):\n",
    "        return f\"Brick({self.x1},{self.y1},{self.z1} -> {self.x2},{self.y2},{self.z2})\"\n",
    "\n"
   ]
  },
  {
   "cell_type": "code",
   "execution_count": 52,
   "metadata": {},
   "outputs": [
    {
     "data": {
      "text/plain": [
       "Brick(1,0,1 -> 1,2,1)"
      ]
     },
     "execution_count": 52,
     "metadata": {},
     "output_type": "execute_result"
    }
   ],
   "source": [
    "line = lines[0]\n",
    "\n",
    "Brick(line)"
   ]
  },
  {
   "cell_type": "code",
   "execution_count": 60,
   "metadata": {},
   "outputs": [
    {
     "data": {
      "text/plain": [
       "[Brick(1,0,1 -> 1,2,1), Brick(0,0,2 -> 2,0,2)]"
      ]
     },
     "execution_count": 60,
     "metadata": {},
     "output_type": "execute_result"
    }
   ],
   "source": [
    "bricks = [Brick(line) for line in lines]\n",
    "bricks = sorted(bricks, key=lambda b: (b.z1))\n",
    "\n",
    "for i, brick in enumerate(bricks):\n",
    "    print(i, brick)"
   ]
  },
  {
   "cell_type": "markdown",
   "metadata": {},
   "source": [
    "### Main code"
   ]
  },
  {
   "cell_type": "code",
   "execution_count": 107,
   "metadata": {},
   "outputs": [],
   "source": [
    "def apply_gravity_to_bricks(bricks, debug=False):\n",
    "    COUNTER = 0\n",
    "    bricks = sorted(bricks, key=lambda b: (b.z1))\n",
    "    for i, brick in enumerate(bricks):\n",
    "        previos_bricks = bricks[:i]\n",
    "        if (debug): print(f\"- {brick}\")\n",
    "        while (brick.canGoLower):\n",
    "            if (brick.z1 == 1):\n",
    "                brick.canGoLower = False\n",
    "                if (debug): print(f\"  - Cannot go lower because of ground\")\n",
    "                break\n",
    "            # find all bricks that are below this one\n",
    "            bricks_below = [b for b in previos_bricks if\n",
    "                            (b.z2 == brick.z1 - 1) and\n",
    "                            (   \n",
    "                            ((b.x1 <= brick.x1 <= b.x2) or (b.y1 <= brick.y1 <= b.y2)) or\n",
    "                            ((b.x1 <= brick.x2 <= b.x2) or (b.y1 <= brick.y2 <= b.y2))\n",
    "                            )\n",
    "                            ]\n",
    "            if (len(bricks_below) > 0):\n",
    "                brick.canGoLower = False\n",
    "                if (debug): print(f\"  - Cannot go lower because of: {bricks_below}\")\n",
    "            else:\n",
    "                brick.z1 -= 1\n",
    "                brick.z2 -= 1\n",
    "                if (debug): print(f\"  ⬇️⬇️⬇️⬇️⬇️⬇️⬇️⬇️⬇️⬇️ \")\n",
    "                COUNTER += 1\n",
    "    return bricks, COUNTER\n"
   ]
  },
  {
   "cell_type": "code",
   "execution_count": 108,
   "metadata": {},
   "outputs": [
    {
     "name": "stdout",
     "output_type": "stream",
     "text": [
      "- Brick(1,0,1 -> 1,2,1)\n",
      "  - Cannot go lower because of ground\n",
      "- Brick(0,0,2 -> 2,0,2)\n",
      "  - Cannot go lower because of: [Brick(1,0,1 -> 1,2,1)]\n",
      "- Brick(0,2,3 -> 2,2,3)\n",
      "  - Cannot go lower because of: [Brick(0,0,2 -> 2,0,2)]\n",
      "- Brick(0,0,4 -> 0,2,4)\n",
      "  - Cannot go lower because of: [Brick(0,2,3 -> 2,2,3)]\n",
      "- Brick(2,0,5 -> 2,2,5)\n",
      "  - Cannot go lower because of: [Brick(0,0,4 -> 0,2,4)]\n",
      "- Brick(0,1,6 -> 2,1,6)\n",
      "  - Cannot go lower because of: [Brick(2,0,5 -> 2,2,5)]\n",
      "- Brick(1,1,8 -> 1,1,9)\n",
      "  ⬇️⬇️⬇️⬇️⬇️⬇️⬇️⬇️⬇️⬇️ \n",
      "  - Cannot go lower because of: [Brick(0,1,6 -> 2,1,6)]\n",
      "Brick 0 is NOT desintegratable\n",
      "Brick 1 is NOT desintegratable\n",
      "Brick 2 is NOT desintegratable\n",
      "Brick 3 is NOT desintegratable\n",
      "Brick 4 is NOT desintegratable\n",
      "Brick 5 is NOT desintegratable\n",
      "Brick 6 is NOT desintegratable\n"
     ]
    }
   ],
   "source": [
    "def check_desintegratable_bricks(bricks):\n",
    "    for i, brick in enumerate(bricks):\n",
    "        lowered = apply_gravity_to_bricks(bricks[i+1:i+2])\n",
    "        if (lowered == 0):\n",
    "            print(f\"Brick {i} is desintegratable\")\n",
    "        else:\n",
    "            print(f\"Brick {i} is NOT desintegratable\")\n",
    "    return\n",
    "\n",
    "\n",
    "\n",
    "bricks = [Brick(line) for line in lines]\n",
    "\n",
    "\n",
    "new_bricks, lowered = apply_gravity_to_bricks(bricks, True)\n",
    "check_desintegratable_bricks(new_bricks)"
   ]
  },
  {
   "cell_type": "code",
   "execution_count": 94,
   "metadata": {},
   "outputs": [
    {
     "name": "stdout",
     "output_type": "stream",
     "text": [
      "> 1 bricks lowered\n"
     ]
    }
   ],
   "source": [
    "lines = open(\"input.txt\").read().split(\"\\n\")\n",
    "lines = open(\"example.txt\").read().split(\"\\n\")\n",
    "\n",
    "\n",
    "bricks = [Brick(line) for line in lines]\n",
    "\n",
    "\n",
    "new_bricks, lowered = apply_gravity_to_bricks(bricks)\n",
    "print(f\"> {lowered} bricks lowered\")"
   ]
  },
  {
   "cell_type": "markdown",
   "metadata": {},
   "source": [
    "<br>\n",
    "\n",
    "---\n",
    "\n",
    "# Part 2"
   ]
  },
  {
   "cell_type": "code",
   "execution_count": 15,
   "metadata": {},
   "outputs": [
    {
     "name": "stdout",
     "output_type": "stream",
     "text": [
      "OLD VS NEW:\n",
      "Time: ['47', '98', '66', '98'] --> 47986698\n",
      "Dist: ['400', '1213', '1011', '1540'] --> 400121310111540\n"
     ]
    }
   ],
   "source": [
    "time = \"\".join(times)\n",
    "distance = \"\".join(distances)\n",
    "\n",
    "total_time, record_dist = map(int, (time, distance))\n",
    "\n",
    "print(\"OLD VS NEW:\")\n",
    "print(f\"Time: {times} --> {total_time}\")\n",
    "print(f\"Dist: {distances} --> {record_dist}\")"
   ]
  },
  {
   "cell_type": "code",
   "execution_count": 16,
   "metadata": {},
   "outputs": [
    {
     "name": "stdout",
     "output_type": "stream",
     "text": [
      "26499773 ways of winning\n"
     ]
    }
   ],
   "source": [
    "opts = list(range(0, total_time + 1))\n",
    "\n",
    "WIN_OPTS_COUNT = 0\n",
    "for s, t in list(zip( opts, opts[::-1] )):\n",
    "    traveled = s * t\n",
    "    if traveled > record_dist:\n",
    "        WIN_OPTS_COUNT += 1\n",
    "\n",
    "\n",
    "print(f\"{WIN_OPTS_COUNT} ways of winning\") # 26499773 (26.499.773)\n"
   ]
  }
 ],
 "metadata": {
  "kernelspec": {
   "display_name": "Python 3",
   "language": "python",
   "name": "python3"
  },
  "language_info": {
   "codemirror_mode": {
    "name": "ipython",
    "version": 3
   },
   "file_extension": ".py",
   "mimetype": "text/x-python",
   "name": "python",
   "nbconvert_exporter": "python",
   "pygments_lexer": "ipython3",
   "version": "3.7.9"
  }
 },
 "nbformat": 4,
 "nbformat_minor": 2
}
