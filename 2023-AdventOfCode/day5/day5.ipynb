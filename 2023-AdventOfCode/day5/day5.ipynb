{
 "cells": [
  {
   "cell_type": "code",
   "execution_count": 2,
   "metadata": {},
   "outputs": [
    {
     "name": "stdout",
     "output_type": "stream",
     "text": [
      "\n",
      "LINES: \n",
      "['seeds: 79 14 55 13', 'seed-to-soil map:\\n50 98 2\\n52 50 48', 'soil-to-fertilizer map:\\n0 15 37\\n37 52 2\\n39 0 15', 'fertilizer-to-water map:\\n49 53 8\\n0 11 42\\n42 0 7\\n57 7 4', 'water-to-light map:\\n88 18 7\\n18 25 70', 'light-to-temperature map:\\n45 77 23\\n81 45 19\\n68 64 13', 'temperature-to-humidity map:\\n0 69 1\\n1 0 69', 'humidity-to-location map:\\n60 56 37\\n56 93 4']\n",
      "\n",
      "SEEDS: \n",
      "[79, 14, 55, 13]\n",
      "\n",
      "CONVERSIONS: \n",
      "['seed-to-soil map:\\n50 98 2\\n52 50 48', 'soil-to-fertilizer map:\\n0 15 37\\n37 52 2\\n39 0 15', 'fertilizer-to-water map:\\n49 53 8\\n0 11 42\\n42 0 7\\n57 7 4', 'water-to-light map:\\n88 18 7\\n18 25 70', 'light-to-temperature map:\\n45 77 23\\n81 45 19\\n68 64 13', 'temperature-to-humidity map:\\n0 69 1\\n1 0 69', 'humidity-to-location map:\\n60 56 37\\n56 93 4']\n"
     ]
    }
   ],
   "source": [
    "import re\n",
    "\n",
    "\n",
    "lines = open(\"input.txt\").read()\n",
    "lines = open(\"example1.txt\").read()\n",
    "\n",
    "\n",
    "lines = lines.split(\"\\n\\n\")\n",
    "lines = list(filter(None, lines))\n",
    "print(f\"\\nLINES: \\n{lines}\")\n",
    "\n",
    "# get seeds\n",
    "seeds = map(int, re.findall('(\\d+)', lines[0]))\n",
    "seeds = list(seeds)\n",
    "print(f\"\\nSEEDS: \\n{seeds}\")\n",
    "\n",
    "# get conversios mappings\n",
    "conversions = lines[1:]\n",
    "print(f\"\\nCONVERSIONS: \\n{conversions}\")"
   ]
  },
  {
   "cell_type": "code",
   "execution_count": 62,
   "metadata": {},
   "outputs": [
    {
     "name": "stdout",
     "output_type": "stream",
     "text": [
      "[50, 98, 2]\n",
      "[52, 50, 48]\n"
     ]
    }
   ],
   "source": [
    "conversion = conversions[0]\n",
    "conversion\n",
    "\n",
    "conversion = list(filter(None, conversion.split(\":\")[1].split(\"\\n\")))\n",
    "for c in conversion:\n",
    "    nums = list(map(int, re.findall('(\\d+)', c)))\n",
    "    print(nums)"
   ]
  },
  {
   "cell_type": "code",
   "execution_count": 2,
   "metadata": {},
   "outputs": [],
   "source": [
    "def convert_num(conversion, num):\n",
    "    for c in conversion:\n",
    "        nums = list(map(int, re.findall('(\\d+)', c)))\n",
    "        if (nums[1] <= num <= nums[1] + nums[2] - 1):\n",
    "            diff = nums[1] - nums[0]\n",
    "            num -= diff\n",
    "            return num\n",
    "    return num"
   ]
  },
  {
   "cell_type": "code",
   "execution_count": 22,
   "metadata": {},
   "outputs": [
    {
     "name": "stdout",
     "output_type": "stream",
     "text": [
      "[82, 43, 86, 35]\n",
      "35\n",
      "(index: 3)\n"
     ]
    }
   ],
   "source": [
    "FINAL_SEEDS = []\n",
    "for seed in seeds:\n",
    "    for conversion in conversions:\n",
    "        conversion = list(filter(None, conversion.split(\":\")[1].split(\"\\n\")))\n",
    "        seed = convert_num(conversion, seed)\n",
    "    FINAL_SEEDS.append(seed)\n",
    "\n",
    "print(FINAL_SEEDS)\n",
    "print(min(FINAL_SEEDS)) # 486613012\n",
    "\n",
    "print(f\"(index: {FINAL_SEEDS.index(min(FINAL_SEEDS))})\")\n"
   ]
  },
  {
   "cell_type": "markdown",
   "metadata": {},
   "source": [
    "# Part 1 re"
   ]
  },
  {
   "cell_type": "code",
   "execution_count": 20,
   "metadata": {},
   "outputs": [
    {
     "name": "stdout",
     "output_type": "stream",
     "text": [
      "Mapping: [[50, 98, 2], [52, 50, 48]]\n"
     ]
    },
    {
     "data": {
      "text/plain": [
       "[[98, 99],\n",
       " [50,\n",
       "  51,\n",
       "  52,\n",
       "  53,\n",
       "  54,\n",
       "  55,\n",
       "  56,\n",
       "  57,\n",
       "  58,\n",
       "  59,\n",
       "  60,\n",
       "  61,\n",
       "  62,\n",
       "  63,\n",
       "  64,\n",
       "  65,\n",
       "  66,\n",
       "  67,\n",
       "  68,\n",
       "  69,\n",
       "  70,\n",
       "  71,\n",
       "  72,\n",
       "  73,\n",
       "  74,\n",
       "  75,\n",
       "  76,\n",
       "  77,\n",
       "  78,\n",
       "  79,\n",
       "  80,\n",
       "  81,\n",
       "  82,\n",
       "  83,\n",
       "  84,\n",
       "  85,\n",
       "  86,\n",
       "  87,\n",
       "  88,\n",
       "  89,\n",
       "  90,\n",
       "  91,\n",
       "  92,\n",
       "  93,\n",
       "  94,\n",
       "  95,\n",
       "  96,\n",
       "  97]]"
      ]
     },
     "execution_count": 20,
     "metadata": {},
     "output_type": "execute_result"
    }
   ],
   "source": [
    "conversion = conversions[0]\n",
    "conversion\n",
    "\n",
    "conversion = list(filter(None, conversion.split(\":\")[1].split(\"\\n\")))\n",
    "mapping = [list(map(int, re.findall('(\\d+)', c))) for c in conversion]\n",
    "print(f\"Mapping: {mapping}\")\n",
    "\n",
    "# [m[0] for m in mapping]\n",
    "# list(zip(mapping[0], mapping[1]))\n",
    "\n",
    "[list(range(m[1], m[1] + m[2])) for m in mapping]"
   ]
  },
  {
   "cell_type": "markdown",
   "metadata": {},
   "source": [
    "# Part 2"
   ]
  },
  {
   "cell_type": "code",
   "execution_count": 3,
   "metadata": {},
   "outputs": [
    {
     "data": {
      "text/plain": [
       "1966850685"
      ]
     },
     "execution_count": 3,
     "metadata": {},
     "output_type": "execute_result"
    }
   ],
   "source": [
    "seed_beginnings, seed_lengths =  seeds[::2], seeds[1::2]\n",
    "NEW_SEEDS = []\n",
    "for start, length in iter(zip(seed_beginnings, seed_lengths)):\n",
    "    new_seeds = list(range(start, start+length))\n",
    "    NEW_SEEDS += new_seeds\n",
    "\n",
    "len(NEW_SEEDS)\n",
    "# 1.966.850.685 (2mins)"
   ]
  },
  {
   "cell_type": "code",
   "execution_count": null,
   "metadata": {},
   "outputs": [
    {
     "name": "stdout",
     "output_type": "stream",
     "text": [
      "CALCULATING...\n"
     ]
    }
   ],
   "source": [
    "len(NEW_SEEDS[100000:])\n"
   ]
  },
  {
   "cell_type": "code",
   "execution_count": null,
   "metadata": {},
   "outputs": [],
   "source": [
    "len(NEW_SEEDS[100000:])"
   ]
  },
  {
   "cell_type": "code",
   "execution_count": 30,
   "metadata": {},
   "outputs": [
    {
     "ename": "",
     "evalue": "",
     "output_type": "error",
     "traceback": [
      "\u001b[1;31mThe Kernel crashed while executing code in the the current cell or a previous cell. Please review the code in the cell(s) to identify a possible cause of the failure. Click <a href='https://aka.ms/vscodeJupyterKernelCrash'>here</a> for more info. View Jupyter <a href='command:jupyter.viewOutput'>log</a> for further details."
     ]
    }
   ],
   "source": [
    "FINAL_SEEDS = []\n",
    "# NEW_SEEDS = seeds[::2]\n",
    "for seed in NEW_SEEDS[100000:]:\n",
    "    for conversion in conversions:\n",
    "        conversion = list(filter(None, conversion.split(\":\")[1].split(\"\\n\")))\n",
    "        seed = convert_num(conversion, seed)\n",
    "    FINAL_SEEDS.append(seed)\n",
    "\n",
    "print(FINAL_SEEDS)\n",
    "print(min(FINAL_SEEDS)) # 486613012"
   ]
  },
  {
   "cell_type": "code",
   "execution_count": null,
   "metadata": {},
   "outputs": [],
   "source": [
    "seed_beginnings, seed_lengths =  seeds[::2], seeds[1::2]\n",
    "FINAL_SEEDS = []\n",
    "for start, length in iter(zip(seed_beginnings, seed_lengths)):\n",
    "    new_seeds = list(range(start, start+length))\n",
    "    for new_seed in new_seeds:\n",
    "        for conversion in conversions:\n",
    "            conversion = list(filter(None, conversion.split(\":\")[1].split(\"\\n\")))\n",
    "            seed = convert_num(conversion, seed)\n",
    "    print(seed)\n",
    "    FINAL_SEEDS.append(seed)"
   ]
  },
  {
   "cell_type": "code",
   "execution_count": null,
   "metadata": {},
   "outputs": [],
   "source": []
  }
 ],
 "metadata": {
  "kernelspec": {
   "display_name": "Python 3",
   "language": "python",
   "name": "python3"
  },
  "language_info": {
   "codemirror_mode": {
    "name": "ipython",
    "version": 3
   },
   "file_extension": ".py",
   "mimetype": "text/x-python",
   "name": "python",
   "nbconvert_exporter": "python",
   "pygments_lexer": "ipython3",
   "version": "3.9.6"
  }
 },
 "nbformat": 4,
 "nbformat_minor": 2
}
