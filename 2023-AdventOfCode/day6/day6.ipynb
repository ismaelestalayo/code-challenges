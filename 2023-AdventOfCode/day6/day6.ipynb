{
 "cells": [
  {
   "cell_type": "code",
   "execution_count": 5,
   "metadata": {},
   "outputs": [
    {
     "name": "stdout",
     "output_type": "stream",
     "text": [
      "RACES (t, d): \n",
      "[('47', '400'), ('98', '1213'), ('66', '1011'), ('98', '1540')]\n"
     ]
    }
   ],
   "source": [
    "import re\n",
    "\n",
    "\n",
    "lines = open(\"example.txt\").readlines()\n",
    "lines = open(\"input.txt\").readlines()\n",
    "\n",
    "times = re.findall('(\\d+)', lines[0])\n",
    "distances = re.findall('(\\d+)', lines[1])\n",
    "races = list(zip(times, distances))\n",
    "\n",
    "print(f\"RACES (t, d): \\n{races}\")"
   ]
  },
  {
   "cell_type": "code",
   "execution_count": 10,
   "metadata": {},
   "outputs": [
    {
     "name": "stdout",
     "output_type": "stream",
     "text": [
      "24 ways of winning\n"
     ]
    }
   ],
   "source": [
    "race = races[0]\n",
    "\n",
    "SOLUTION = 1\n",
    "time, record_dist = map(int, race)\n",
    "opts = list(range(0, time + 1))\n",
    "\n",
    "WIN_OPTS_COUNT = 0\n",
    "for speed, time in list(zip( opts, opts[::-1] )):\n",
    "    # print(f\"OPTION: {speed, time}\")\n",
    "    traveled = speed * time\n",
    "    if traveled > record_dist:\n",
    "        WIN_OPTS_COUNT += 1\n",
    "        # print(f\"  - WINNING OPTION: {speed, time} = {traveled}\")\n",
    "\n",
    "print(f\"{WIN_OPTS_COUNT} ways of winning\")\n",
    "SOLUTION *= WIN_OPTS_COUNT\n"
   ]
  },
  {
   "cell_type": "code",
   "execution_count": 7,
   "metadata": {},
   "outputs": [
    {
     "name": "stdout",
     "output_type": "stream",
     "text": [
      "24 ways of winning\n",
      "69 ways of winning\n",
      "17 ways of winning\n",
      "59 ways of winning\n",
      "SOLUTION = 1660968\n"
     ]
    }
   ],
   "source": [
    "race = races[1]\n",
    "\n",
    "SOLUTION = 1\n",
    "for race in races:\n",
    "    time, record_dist = map(int, race)\n",
    "    opts = list(range(0, time + 1))\n",
    "\n",
    "    WIN_OPTS_COUNT = 0\n",
    "    for speed, time in list(zip( opts, opts[::-1] )):\n",
    "        # print(f\"OPTION: {speed, time}\")\n",
    "        traveled = speed * time\n",
    "        if traveled > record_dist:\n",
    "            WIN_OPTS_COUNT += 1\n",
    "            # print(f\"  - WINNING OPTION: {speed, time} = {traveled}\")\n",
    "\n",
    "    print(f\"{WIN_OPTS_COUNT} ways of winning\")\n",
    "    SOLUTION *= WIN_OPTS_COUNT\n",
    "\n",
    "print(f\"SOLUTION = {SOLUTION}\") # 1660968"
   ]
  },
  {
   "cell_type": "markdown",
   "metadata": {},
   "source": [
    "# Part 2"
   ]
  },
  {
   "cell_type": "code",
   "execution_count": 15,
   "metadata": {},
   "outputs": [
    {
     "name": "stdout",
     "output_type": "stream",
     "text": [
      "OLD VS NEW:\n",
      "Time: ['47', '98', '66', '98'] --> 47986698\n",
      "Dist: ['400', '1213', '1011', '1540'] --> 400121310111540\n"
     ]
    }
   ],
   "source": [
    "time = \"\".join(times)\n",
    "distance = \"\".join(distances)\n",
    "\n",
    "total_time, record_dist = map(int, (time, distance))\n",
    "\n",
    "print(\"OLD VS NEW:\")\n",
    "print(f\"Time: {times} --> {total_time}\")\n",
    "print(f\"Dist: {distances} --> {record_dist}\")"
   ]
  },
  {
   "cell_type": "code",
   "execution_count": 16,
   "metadata": {},
   "outputs": [
    {
     "name": "stdout",
     "output_type": "stream",
     "text": [
      "26499773 ways of winning\n"
     ]
    }
   ],
   "source": [
    "opts = list(range(0, total_time + 1))\n",
    "\n",
    "WIN_OPTS_COUNT = 0\n",
    "for s, t in list(zip( opts, opts[::-1] )):\n",
    "    traveled = s * t\n",
    "    if traveled > record_dist:\n",
    "        WIN_OPTS_COUNT += 1\n",
    "\n",
    "\n",
    "print(f\"{WIN_OPTS_COUNT} ways of winning\") # 26499773 (26.499.773)\n"
   ]
  }
 ],
 "metadata": {
  "kernelspec": {
   "display_name": "Python 3",
   "language": "python",
   "name": "python3"
  },
  "language_info": {
   "codemirror_mode": {
    "name": "ipython",
    "version": 3
   },
   "file_extension": ".py",
   "mimetype": "text/x-python",
   "name": "python",
   "nbconvert_exporter": "python",
   "pygments_lexer": "ipython3",
   "version": "3.10.11"
  }
 },
 "nbformat": 4,
 "nbformat_minor": 2
}
