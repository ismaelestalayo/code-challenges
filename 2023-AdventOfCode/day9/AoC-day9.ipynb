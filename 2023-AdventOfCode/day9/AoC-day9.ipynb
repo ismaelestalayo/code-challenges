{
 "cells": [
  {
   "cell_type": "code",
   "execution_count": 1,
   "metadata": {},
   "outputs": [],
   "source": [
    "import re\n",
    "\n",
    "\n",
    "lines = open(\"example1.txt\").readlines()\n",
    "lines = open(\"input.txt\").readlines()\n",
    "\n"
   ]
  },
  {
   "cell_type": "code",
   "execution_count": 7,
   "metadata": {},
   "outputs": [
    {
     "name": "stdout",
     "output_type": "stream",
     "text": [
      "2038472161\n"
     ]
    }
   ],
   "source": [
    "SOLUTION = []\n",
    "for line in lines:\n",
    "    nums = list(map(int, line.split()))\n",
    "    NUMS_LIST = [nums]\n",
    "    while (True):\n",
    "        last = NUMS_LIST[-1]\n",
    "        if (all([d == 0 for d in last])):\n",
    "            break\n",
    "        diffs = [r - l for l, r in list(zip(last, last[1:]))]\n",
    "        NUMS_LIST.append(diffs)\n",
    "\n",
    "    s = sum([n[-1] for n in NUMS_LIST])\n",
    "    SOLUTION.append(s)\n",
    "\n",
    "print(sum(SOLUTION))\n",
    "# 2038472161"
   ]
  },
  {
   "cell_type": "markdown",
   "metadata": {},
   "source": [
    "Solution: 2.038.472.161 (2038472161)\n",
    "\n",
    "<br>\n",
    "\n",
    "---\n",
    "\n",
    "# Part2"
   ]
  },
  {
   "cell_type": "code",
   "execution_count": 5,
   "metadata": {},
   "outputs": [],
   "source": [
    "import re\n",
    "\n",
    "\n",
    "lines = open(\"example1.txt\").readlines()\n",
    "lines = open(\"input.txt\").readlines()"
   ]
  },
  {
   "cell_type": "code",
   "execution_count": 8,
   "metadata": {},
   "outputs": [
    {
     "name": "stdout",
     "output_type": "stream",
     "text": [
      "SOLUTION: [11, 15, 4, -2, -2, 1, -4, 7, 15, 9, 11, 12, 2, 9, -1, -3, -4, -2, 8, 5, -2, 2, 12, 13, -5, 9, -3, 11, -5, -1, 2, 10, -4, 3, 9, -3, 5, 8, 14, 15, 8, -2, -4, 6, 6, 11, -4, 6, 15, 4, 7, 14, 15, 4, 1, 7, 10, 5, 8, 12, 11, 7, 3, 9, 0, 2, 12, 6, 1, 14, -3, 7, 10, 13, -5, 1, 4, 3, 1, 5, 2, 3, 0, -2, 8, 9, 4, 3, 4, 5, 12, 9, 10, 9, 2, 14, 0, -3, 2, 7, -3, -1, 12, 13, 15, 4, 2, -2, 4, 3, 10, 8, 6, -3, 0, 13, 8, 11, -5, 9, 8, 5, 15, 1, 11, -1, 1, 7, 8, -1, 8, 9, 10, -1, 13, 8, 5, -4, 11, -3, 11, 7, 13, 7, 14, 12, 14, 0, 11, 13, 0, 6, 0, 13, 15, -3, -1, 14, -3, -3, 8, 10, 6, 3, -5, 7, 14, -1, -3, 13, 14, -1, 5, 14, -1, 12, 2, -1, 10, 14, 15, 1, -2, 6, 4, 8, -2, 4, -1, 4, 9, 3, 2, 10, -1, 12, 10, 2, 13, 11]\n",
      "SUM: 1091\n"
     ]
    }
   ],
   "source": [
    "\n",
    "SOLUTION = []\n",
    "for line in lines:\n",
    "    nums = list(map(int, line.split()))\n",
    "    NUMS_LIST = [nums]\n",
    "    while (True):\n",
    "        last = NUMS_LIST[-1]\n",
    "        # print(last)\n",
    "        if (all([d == 0 for d in last])):\n",
    "            break\n",
    "        diffs = [r - l for l, r in list(zip(last, last[1:]))]\n",
    "        NUMS_LIST.append(diffs)\n",
    "    nn = [n[0] for n in NUMS_LIST]\n",
    "    sol = 0\n",
    "    for n in nn[::-1]:\n",
    "        sol = n - sol\n",
    "    SOLUTION.append(sol)\n",
    "\n",
    "print(f\"SOLUTION: {SOLUTION}\")\n",
    "print(f\"SUM: {sum(SOLUTION)}\")"
   ]
  },
  {
   "cell_type": "markdown",
   "metadata": {},
   "source": [
    "Solution 1091"
   ]
  }
 ],
 "metadata": {
  "kernelspec": {
   "display_name": "Python 3",
   "language": "python",
   "name": "python3"
  },
  "language_info": {
   "codemirror_mode": {
    "name": "ipython",
    "version": 3
   },
   "file_extension": ".py",
   "mimetype": "text/x-python",
   "name": "python",
   "nbconvert_exporter": "python",
   "pygments_lexer": "ipython3",
   "version": "3.7.9"
  }
 },
 "nbformat": 4,
 "nbformat_minor": 2
}
