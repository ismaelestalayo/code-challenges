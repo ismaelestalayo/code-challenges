{
 "cells": [
  {
   "cell_type": "code",
   "execution_count": null,
   "metadata": {},
   "outputs": [
    {
     "name": "stdout",
     "output_type": "stream",
     "text": [
      "[3, 4, 2, 1, 3, 3]\n",
      "[4, 3, 5, 3, 9, 3]\n"
     ]
    }
   ],
   "source": [
    "import re\n",
    "\n",
    "\n",
    "lines = open(\"example1.txt\").read().split(\"\\n\")\n",
    "\n",
    "\n",
    "pattern = r\"(\\d+)\\s*(\\d+)\"\n",
    "tuples = [re.match(pattern, line).groups() for line in lines]\n",
    "\n",
    "list_L = [ int(t[0]) for t in tuples]\n",
    "list_R = [ int(t[1]) for t in tuples]\n",
    "\n",
    "print(list_L)\n",
    "print(list_R)"
   ]
  },
  {
   "cell_type": "code",
   "execution_count": 40,
   "metadata": {},
   "outputs": [
    {
     "name": "stdout",
     "output_type": "stream",
     "text": [
      "(1, 3)\n",
      "(2, 3)\n",
      "(3, 3)\n",
      "(3, 4)\n",
      "(3, 5)\n",
      "(4, 9)\n"
     ]
    }
   ],
   "source": [
    "listL, listR = sorted(list_L), sorted(list_R)\n",
    "\n",
    "_ = [print(l) for l in list(zip(listL, listR))]"
   ]
  },
  {
   "cell_type": "markdown",
   "metadata": {},
   "source": [
    "# Part 1"
   ]
  },
  {
   "cell_type": "code",
   "execution_count": 50,
   "metadata": {},
   "outputs": [],
   "source": [
    "lines = open(\"input.txt\").read().split(\"\\n\")\n",
    "\n",
    "tuples = [re.match(pattern, line).groups() for line in lines]\n",
    "\n",
    "list_L = [ int(t[0]) for t in tuples]\n",
    "list_R = [ int(t[1]) for t in tuples]\n",
    "\n",
    "listL, listR = sorted(list_L), sorted(list_R)"
   ]
  },
  {
   "cell_type": "code",
   "execution_count": 52,
   "metadata": {},
   "outputs": [
    {
     "data": {
      "text/plain": [
       "2192892"
      ]
     },
     "execution_count": 52,
     "metadata": {},
     "output_type": "execute_result"
    }
   ],
   "source": [
    "x = [abs(numR - numL) for numL, numR in zip(listL, listR)]\n",
    "sum(x)"
   ]
  },
  {
   "cell_type": "markdown",
   "metadata": {},
   "source": [
    "`(sol: 2.192.892)`\n",
    "\n",
    "<br>\n",
    "\n",
    "# Part 2"
   ]
  },
  {
   "cell_type": "code",
   "execution_count": 82,
   "metadata": {},
   "outputs": [
    {
     "data": {
      "text/html": [
       "<div>\n",
       "<style scoped>\n",
       "    .dataframe tbody tr th:only-of-type {\n",
       "        vertical-align: middle;\n",
       "    }\n",
       "\n",
       "    .dataframe tbody tr th {\n",
       "        vertical-align: top;\n",
       "    }\n",
       "\n",
       "    .dataframe thead th {\n",
       "        text-align: right;\n",
       "    }\n",
       "</style>\n",
       "<table border=\"1\" class=\"dataframe\">\n",
       "  <thead>\n",
       "    <tr style=\"text-align: right;\">\n",
       "      <th></th>\n",
       "      <th>L</th>\n",
       "      <th>R</th>\n",
       "    </tr>\n",
       "  </thead>\n",
       "  <tbody>\n",
       "    <tr>\n",
       "      <th>0</th>\n",
       "      <td>98415</td>\n",
       "      <td>86712</td>\n",
       "    </tr>\n",
       "    <tr>\n",
       "      <th>1</th>\n",
       "      <td>21839</td>\n",
       "      <td>96206</td>\n",
       "    </tr>\n",
       "    <tr>\n",
       "      <th>2</th>\n",
       "      <td>14958</td>\n",
       "      <td>40971</td>\n",
       "    </tr>\n",
       "    <tr>\n",
       "      <th>3</th>\n",
       "      <td>91380</td>\n",
       "      <td>63825</td>\n",
       "    </tr>\n",
       "    <tr>\n",
       "      <th>4</th>\n",
       "      <td>48482</td>\n",
       "      <td>40971</td>\n",
       "    </tr>\n",
       "  </tbody>\n",
       "</table>\n",
       "</div>"
      ],
      "text/plain": [
       "       L      R\n",
       "0  98415  86712\n",
       "1  21839  96206\n",
       "2  14958  40971\n",
       "3  91380  63825\n",
       "4  48482  40971"
      ]
     },
     "execution_count": 82,
     "metadata": {},
     "output_type": "execute_result"
    }
   ],
   "source": [
    "import pandas as pd\n",
    "\n",
    "\n",
    "lines = open(\"input.txt\").read().split(\"\\n\")\n",
    "# lines = open(\"example2.txt\").read().split(\"\\n\")\n",
    "\n",
    "tuples = [re.match(pattern, line).groups() for line in lines]\n",
    "\n",
    "listL = [ int(t[0]) for t in tuples]\n",
    "listR = [ int(t[1]) for t in tuples]\n",
    "\n",
    "\n",
    "\n",
    "df = pd.DataFrame({\"L\": listL, \"R\": listR})\n",
    "df.head()"
   ]
  },
  {
   "cell_type": "code",
   "execution_count": 83,
   "metadata": {},
   "outputs": [
    {
     "data": {
      "text/html": [
       "<div>\n",
       "<style scoped>\n",
       "    .dataframe tbody tr th:only-of-type {\n",
       "        vertical-align: middle;\n",
       "    }\n",
       "\n",
       "    .dataframe tbody tr th {\n",
       "        vertical-align: top;\n",
       "    }\n",
       "\n",
       "    .dataframe thead th {\n",
       "        text-align: right;\n",
       "    }\n",
       "</style>\n",
       "<table border=\"1\" class=\"dataframe\">\n",
       "  <thead>\n",
       "    <tr style=\"text-align: right;\">\n",
       "      <th></th>\n",
       "      <th>L</th>\n",
       "      <th>R</th>\n",
       "      <th>similarity</th>\n",
       "    </tr>\n",
       "  </thead>\n",
       "  <tbody>\n",
       "    <tr>\n",
       "      <th>0</th>\n",
       "      <td>98415</td>\n",
       "      <td>86712</td>\n",
       "      <td>0.0</td>\n",
       "    </tr>\n",
       "    <tr>\n",
       "      <th>1</th>\n",
       "      <td>21839</td>\n",
       "      <td>96206</td>\n",
       "      <td>0.0</td>\n",
       "    </tr>\n",
       "    <tr>\n",
       "      <th>2</th>\n",
       "      <td>14958</td>\n",
       "      <td>40971</td>\n",
       "      <td>0.0</td>\n",
       "    </tr>\n",
       "    <tr>\n",
       "      <th>3</th>\n",
       "      <td>91380</td>\n",
       "      <td>63825</td>\n",
       "      <td>0.0</td>\n",
       "    </tr>\n",
       "    <tr>\n",
       "      <th>4</th>\n",
       "      <td>48482</td>\n",
       "      <td>40971</td>\n",
       "      <td>0.0</td>\n",
       "    </tr>\n",
       "  </tbody>\n",
       "</table>\n",
       "</div>"
      ],
      "text/plain": [
       "       L      R  similarity\n",
       "0  98415  86712         0.0\n",
       "1  21839  96206         0.0\n",
       "2  14958  40971         0.0\n",
       "3  91380  63825         0.0\n",
       "4  48482  40971         0.0"
      ]
     },
     "execution_count": 83,
     "metadata": {},
     "output_type": "execute_result"
    }
   ],
   "source": [
    "x = df.R.value_counts()\n",
    "x.get(2, 0)\n",
    "\n",
    "df[\"similarity\"] = df[\"L\"].map(x.get).fillna(0)\n",
    "df.head()"
   ]
  },
  {
   "cell_type": "code",
   "execution_count": 84,
   "metadata": {},
   "outputs": [
    {
     "data": {
      "text/plain": [
       "22962826.0"
      ]
     },
     "execution_count": 84,
     "metadata": {},
     "output_type": "execute_result"
    }
   ],
   "source": [
    "sum(df[\"L\"] * df[\"similarity\"])"
   ]
  }
 ],
 "metadata": {
  "kernelspec": {
   "display_name": "Python 3",
   "language": "python",
   "name": "python3"
  },
  "language_info": {
   "codemirror_mode": {
    "name": "ipython",
    "version": 3
   },
   "file_extension": ".py",
   "mimetype": "text/x-python",
   "name": "python",
   "nbconvert_exporter": "python",
   "pygments_lexer": "ipython3",
   "version": "3.9.6"
  }
 },
 "nbformat": 4,
 "nbformat_minor": 2
}
