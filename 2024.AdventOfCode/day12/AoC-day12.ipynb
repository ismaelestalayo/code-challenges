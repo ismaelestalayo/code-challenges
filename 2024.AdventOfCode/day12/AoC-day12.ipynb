{
 "cells": [
  {
   "cell_type": "code",
   "execution_count": 19,
   "metadata": {},
   "outputs": [
    {
     "name": "stdout",
     "output_type": "stream",
     "text": [
      "> Uniques: {'A', 'E', 'B', 'C', 'D'}\n"
     ]
    },
    {
     "data": {
      "text/plain": [
       "[['A', 'A', 'A', 'A'],\n",
       " ['B', 'B', 'C', 'D'],\n",
       " ['B', 'B', 'C', 'C'],\n",
       " ['E', 'E', 'E', 'C']]"
      ]
     },
     "execution_count": 19,
     "metadata": {},
     "output_type": "execute_result"
    }
   ],
   "source": [
    "def parse_file(filename: str):\n",
    "    text_line = open(filename).read()\n",
    "    lines = text_line.split(\"\\n\")\n",
    "    matrix = [[letter for letter in line] for line in lines]\n",
    "    uniques = set(sum(matrix, []))\n",
    "    return matrix, uniques\n",
    "\n",
    "\n",
    "lines, uniques = parse_file(\"example1.txt\")\n",
    "print(f\"> Uniques: { uniques }\")\n",
    "lines"
   ]
  },
  {
   "cell_type": "code",
   "execution_count": 55,
   "metadata": {},
   "outputs": [
    {
     "data": {
      "text/plain": [
       "{'A': [(0, 0), (0, 1), (0, 2), (0, 3)],\n",
       " 'E': [(3, 0), (3, 1), (3, 2)],\n",
       " 'B': [(1, 0), (1, 1), (2, 0), (2, 1)],\n",
       " 'C': [(1, 2), (2, 2), (2, 3), (3, 3)],\n",
       " 'D': [(1, 3)]}"
      ]
     },
     "execution_count": 55,
     "metadata": {},
     "output_type": "execute_result"
    }
   ],
   "source": [
    "import numpy as np\n",
    "\n",
    "\n",
    "letter = \"A\"\n",
    "line = lines[0]\n",
    "\n",
    "\n",
    "\n",
    "\n",
    "def find_regions(lines, uniques):\n",
    "    regions = {}\n",
    "    for letter in uniques:\n",
    "        indexes = []\n",
    "        for i, line in enumerate(lines):\n",
    "            matches = np.where(np.array(line) == letter)[0]\n",
    "            [indexes.append((i, m)) for m in matches]\n",
    "        regions[letter] = indexes\n",
    "    return regions\n",
    "\n",
    "\n",
    "matrix, uniques = parse_file(\"example1.txt\")\n",
    "regions = find_regions(matrix, uniques)\n",
    "regions"
   ]
  },
  {
   "cell_type": "code",
   "execution_count": 79,
   "metadata": {},
   "outputs": [
    {
     "name": "stdout",
     "output_type": "stream",
     "text": [
      "> Perimeter for 'A' = 10\n",
      "> Perimeter for 'E' = 8\n",
      "> Perimeter for 'B' = 8\n",
      "> Perimeter for 'C' = 10\n",
      "> Perimeter for 'D' = 4\n",
      "> Prices: {'A': 40, 'E': 24, 'B': 32, 'C': 40, 'D': 4}\n",
      "> Total: 140€\n"
     ]
    }
   ],
   "source": [
    "matrix, uniques = parse_file(\"example1.txt\")\n",
    "regions = find_regions(matrix, uniques)\n",
    "regions\n",
    "\n",
    "prices = {}\n",
    "for letter in regions.keys():\n",
    "    coords = regions[letter]\n",
    "    perimeter = 0\n",
    "    prices[letter] = len(coords)\n",
    "    for x, y in coords:\n",
    "        U = matrix[x - 1][y] if 0 <= x - 1 < len(matrix) else -1\n",
    "        D = matrix[x + 1][y] if 0 <= x + 1 < len(matrix) else -1\n",
    "        L = matrix[x][y - 1] if 0 <= y - 1 < len(matrix[0]) else -1\n",
    "        R = matrix[x][y + 1] if 0 <= y + 1 < len(matrix[0]) else -1\n",
    "        perimeter += 4 - sum([U == letter, D == letter, L == letter, R == letter])\n",
    "    print(f\"> Perimeter for '{ letter }' = { perimeter }\")\n",
    "    prices[letter] *= perimeter\n",
    "\n",
    "\n",
    "print(f\"> Prices: { prices }\")\n",
    "total = sum(list(prices.values()))\n",
    "print(f\"> Total: { total }€\")"
   ]
  },
  {
   "cell_type": "markdown",
   "metadata": {},
   "source": [
    "# Part 1"
   ]
  },
  {
   "cell_type": "code",
   "execution_count": 87,
   "metadata": {},
   "outputs": [
    {
     "name": "stdout",
     "output_type": "stream",
     "text": [
      "  - M: 5 * 12 = 60\n",
      "  - F: 10 * 18 = 180\n",
      "  - R: 12 * 18 = 216\n",
      "  - E: 13 * 18 = 234\n",
      "  - J: 11 * 20 = 220\n",
      "  - V: 13 * 20 = 260\n",
      "  - C: 15 * 32 = 480\n",
      "  - S: 3 * 8 = 24\n",
      "  - I: 18 * 30 = 540\n",
      "> Prices: {'M': 60, 'F': 180, 'R': 216, 'E': 234, 'J': 220, 'V': 260, 'C': 480, 'S': 24, 'I': 540}\n",
      "> Total: 2214€\n"
     ]
    }
   ],
   "source": [
    "matrix, uniques = parse_file(\"example2.txt\")\n",
    "regions = find_regions(matrix, uniques)\n",
    "regions\n",
    "\n",
    "prices = {}\n",
    "for letter in regions.keys():\n",
    "    coords = regions[letter]\n",
    "    perimeter = 0\n",
    "    area = len(coords)\n",
    "    for x, y in coords:\n",
    "        U = matrix[x - 1][y] if 0 <= x - 1 < len(matrix) else -1\n",
    "        D = matrix[x + 1][y] if 0 <= x + 1 < len(matrix) else -1\n",
    "        L = matrix[x][y - 1] if 0 <= y - 1 < len(matrix[0]) else -1\n",
    "        R = matrix[x][y + 1] if 0 <= y + 1 < len(matrix[0]) else -1\n",
    "        perimeter += 4 - sum([U == letter, D == letter, L == letter, R == letter])\n",
    "    total = area * perimeter\n",
    "    prices[letter] = total\n",
    "    print(f\"  - { letter }: { area } * { perimeter } = {total}\")\n",
    "\n",
    "\n",
    "print(f\"> Prices: { prices }\")\n",
    "total = sum(list(prices.values()))\n",
    "print(f\"> Total: { total }€\")"
   ]
  },
  {
   "cell_type": "markdown",
   "metadata": {},
   "source": [
    "<br> \n",
    "\n",
    "# Part 2 (debug)"
   ]
  },
  {
   "cell_type": "code",
   "execution_count": null,
   "metadata": {},
   "outputs": [],
   "source": []
  },
  {
   "cell_type": "markdown",
   "metadata": {},
   "source": [
    "# Part 2"
   ]
  },
  {
   "cell_type": "code",
   "execution_count": null,
   "metadata": {},
   "outputs": [],
   "source": []
  },
  {
   "cell_type": "code",
   "execution_count": null,
   "metadata": {},
   "outputs": [],
   "source": []
  }
 ],
 "metadata": {
  "kernelspec": {
   "display_name": "Python 3",
   "language": "python",
   "name": "python3"
  },
  "language_info": {
   "codemirror_mode": {
    "name": "ipython",
    "version": 3
   },
   "file_extension": ".py",
   "mimetype": "text/x-python",
   "name": "python",
   "nbconvert_exporter": "python",
   "pygments_lexer": "ipython3",
   "version": "3.9.6"
  }
 },
 "nbformat": 4,
 "nbformat_minor": 2
}
