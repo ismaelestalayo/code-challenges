{
 "cells": [
  {
   "cell_type": "markdown",
   "metadata": {},
   "source": [
    "# Part 1"
   ]
  },
  {
   "cell_type": "code",
   "execution_count": null,
   "metadata": {},
   "outputs": [
    {
     "name": "stdout",
     "output_type": "stream",
     "text": [
      "MMMS\n",
      "MSAM\n",
      "AMXS\n",
      "MSAM\n",
      "----------\n",
      "MSXM\n",
      "MAS\n",
      "MM\n",
      "S\n",
      "----------\n",
      "MMA\n",
      "AS\n",
      "M\n"
     ]
    }
   ],
   "source": [
    "text_lines = open(\"example1.txt\").read().split(\"\\n\")\n",
    "\n",
    "\n",
    "# get the diagonal of the matrix\n",
    "def get_diagonal(matrix, i, j):\n",
    "    diagonal = []\n",
    "    while i < len(matrix) and j < len(matrix[i]):\n",
    "        diagonal.append(matrix[i][j])\n",
    "        i += 1\n",
    "        j += 1\n",
    "    return \"\".join(diagonal)\n",
    "\n",
    "_ = [print(text_line) for text_line in text_lines]\n",
    "print(\"-\" * 10)\n",
    "\n",
    "print(get_diagonal(text_lines, 0, 0))\n",
    "print(get_diagonal(text_lines, 0, 1))\n",
    "print(get_diagonal(text_lines, 0, 2))\n",
    "print(get_diagonal(text_lines, 0, 3))\n",
    "print(\"-\" * 10)\n",
    "print(get_diagonal(text_lines, 1, 0))\n",
    "print(get_diagonal(text_lines, 2, 0))\n",
    "print(get_diagonal(text_lines, 3, 0))"
   ]
  },
  {
   "cell_type": "code",
   "execution_count": 58,
   "metadata": {},
   "outputs": [
    {
     "name": "stdout",
     "output_type": "stream",
     "text": [
      "MMMS\n",
      "MSAM\n",
      "AMXS\n",
      "MSAM\n",
      "----------\n",
      "M\n",
      "MM\n",
      "ASM\n",
      "MMAS\n",
      "----------\n",
      "SXM\n",
      "AS\n",
      "M\n"
     ]
    }
   ],
   "source": [
    "def get_diagonal_inv(matrix, i, j):\n",
    "    diagonal = []\n",
    "    while j < len(matrix) and i >= 0:\n",
    "        diagonal.append(matrix[i][j])\n",
    "        i -= 1\n",
    "        j += 1\n",
    "    return \"\".join(diagonal)\n",
    "\n",
    "\n",
    "_ = [print(text_line) for text_line in text_lines]\n",
    "print(\"-\" * 10)\n",
    "print(get_diagonal_inv(text_lines, 0, 0))\n",
    "print(get_diagonal_inv(text_lines, 1, 0))\n",
    "print(get_diagonal_inv(text_lines, 2, 0))\n",
    "print(get_diagonal_inv(text_lines, 3, 0))\n",
    "print(\"-\" * 10)\n",
    "print(get_diagonal_inv(text_lines, 3, 1))\n",
    "print(get_diagonal_inv(text_lines, 3, 2))\n",
    "print(get_diagonal_inv(text_lines, 3, 3))"
   ]
  },
  {
   "cell_type": "code",
   "execution_count": 72,
   "metadata": {},
   "outputs": [
    {
     "name": "stdout",
     "output_type": "stream",
     "text": [
      "MSXM\n",
      "MMA\n",
      "AS\n",
      "M\n",
      "MAS\n",
      "MM\n",
      "S\n"
     ]
    }
   ],
   "source": [
    "def get_all_diagonals(matrix):\n",
    "    rows, cols = len(matrix), len(matrix[0])\n",
    "    diagonals = []\n",
    "    for i in range(rows):\n",
    "        diagonals.append(\n",
    "            get_diagonal(matrix, i, 0)\n",
    "        )\n",
    "    for j in range(1, cols):\n",
    "        diagonals.append(\n",
    "            get_diagonal(matrix, 0, j)\n",
    "        )\n",
    "    return diagonals\n",
    "\n",
    "def get_all_diagonals_inv(matrix):\n",
    "    rows, cols = len(matrix), len(matrix[0])\n",
    "    diagonals = []\n",
    "    for i in range(rows):\n",
    "        diagonals.append(\n",
    "            get_diagonal_inv(matrix, i, 0)\n",
    "        )\n",
    "    for j in range(1, cols):\n",
    "        diagonals.append(\n",
    "            get_diagonal_inv(matrix, rows - 1, j)\n",
    "        )\n",
    "    return diagonals\n",
    "\n",
    "lines = get_all_diagonals(text_lines)\n",
    "_ = [print(line) for line in lines]"
   ]
  },
  {
   "cell_type": "code",
   "execution_count": 74,
   "metadata": {},
   "outputs": [
    {
     "name": "stdout",
     "output_type": "stream",
     "text": [
      "DIAGONALS:  ['MSXM', 'MMA', 'AS', 'M', 'MAS', 'MM', 'S']\n",
      "DIAGONALS_INV:  ['M', 'MM', 'ASM', 'MMAS', 'SXM', 'AS', 'M']\n",
      "HORIZONTALS:  ['MMMS', 'MSAM', 'AMXS', 'MSAM']\n",
      "VERTICALS:  ['MMAM', 'MSMS', 'MAXA', 'SMSM']\n"
     ]
    }
   ],
   "source": [
    "text_lines = open(\"example1.txt\").read().split(\"\\n\")\n",
    "\n",
    "def get_all_directions():\n",
    "    cols = len(text_lines[0])\n",
    "    rows = len(text_lines)\n",
    "    # \n",
    "    diagonals = get_all_diagonals(text_lines)\n",
    "    diagonals_inv = get_all_diagonals_inv(text_lines)\n",
    "    # \n",
    "    horizontals = text_lines\n",
    "    verticals = [\"\".join([text_lines[i][j] for i in range(rows)]) for j in range(cols)]\n",
    "    # join all three lists into one\n",
    "    return diagonals, diagonals_inv, horizontals, verticals\n",
    "\n",
    "\n",
    "diagonals, diagonals_inv, horizontals, verticals = get_all_directions()\n",
    "print(\"DIAGONALS: \", diagonals)\n",
    "print(\"DIAGONALS_INV: \", diagonals_inv)\n",
    "print(\"HORIZONTALS: \", horizontals)\n",
    "print(\"VERTICALS: \", verticals)"
   ]
  },
  {
   "cell_type": "code",
   "execution_count": 83,
   "metadata": {},
   "outputs": [
    {
     "name": "stdout",
     "output_type": "stream",
     "text": [
      "MATCHES:  2578\n"
     ]
    }
   ],
   "source": [
    "text_lines = open(\"example1.txt\").read().split(\"\\n\")\n",
    "text_lines = open(\"input.txt\").read().split(\"\\n\")\n",
    "\n",
    "PATERN = \"XMAS\"\n",
    "PATERN_INV = PATERN[::-1]\n",
    "\n",
    "diagonals, diagonals_inv, horizontals, verticals = get_all_directions()\n",
    "combined = diagonals + diagonals_inv + horizontals + verticals\n",
    "\n",
    "matches = 0\n",
    "for line in combined:\n",
    "    matches += line.count(PATERN)\n",
    "    matches += line.count(PATERN_INV)\n",
    "print(\"MATCHES: \", matches)"
   ]
  },
  {
   "cell_type": "markdown",
   "metadata": {},
   "source": [
    "<br>\n",
    "\n",
    "# Part 2"
   ]
  },
  {
   "cell_type": "code",
   "execution_count": 93,
   "metadata": {},
   "outputs": [
    {
     "name": "stdout",
     "output_type": "stream",
     "text": [
      "FOUND MAS\n"
     ]
    }
   ],
   "source": [
    "text_lines = open(\"example1.txt\").read().split(\"\\n\")\n",
    "\n",
    "for col in range(len(text_lines[0]) - 3):\n",
    "    matrix = [\n",
    "        text_lines[0][col:col+3],\n",
    "        text_lines[1][col:col+3],\n",
    "        text_lines[2][col:col+3],\n",
    "    ]\n",
    "    # _ = [print(m) for m in matrix]\n",
    "    diag = get_diagonal(matrix, 0, 0)\n",
    "    diag_inv = get_diagonal_inv(matrix, 2, 0)\n",
    "    if (\"MAS\" in diag or \"SAM\" in diag) and (\"MAS\" in diag_inv or \"SAM\" in diag_inv):\n",
    "        print(\"FOUND MAS\")"
   ]
  },
  {
   "cell_type": "code",
   "execution_count": 106,
   "metadata": {},
   "outputs": [
    {
     "name": "stdout",
     "output_type": "stream",
     "text": [
      "MATCHES:  1972\n"
     ]
    }
   ],
   "source": [
    "text_lines = open(\"example1.txt\").read().split(\"\\n\")\n",
    "text_lines = open(\"input.txt\").read().split(\"\\n\")\n",
    "\n",
    "matches = 0\n",
    "for row in range(len(text_lines) - 2):\n",
    "    for col in range(len(text_lines[0]) - 2):\n",
    "        matrix = [\n",
    "            text_lines[row+0][col:col+3],\n",
    "            text_lines[row+1][col:col+3],\n",
    "            text_lines[row+2][col:col+3],\n",
    "        ]\n",
    "        # _ = [print(m) for m in matrix]\n",
    "        diag = get_diagonal(matrix, 0, 0)\n",
    "        diag_inv = get_diagonal_inv(matrix, 2, 0)\n",
    "        if (\"MAS\" in diag or \"SAM\" in diag) and (\"MAS\" in diag_inv or \"SAM\" in diag_inv):\n",
    "            matches += 1\n",
    "print(\"MATCHES: \", matches)"
   ]
  }
 ],
 "metadata": {
  "kernelspec": {
   "display_name": "Python 3",
   "language": "python",
   "name": "python3"
  },
  "language_info": {
   "codemirror_mode": {
    "name": "ipython",
    "version": 3
   },
   "file_extension": ".py",
   "mimetype": "text/x-python",
   "name": "python",
   "nbconvert_exporter": "python",
   "pygments_lexer": "ipython3",
   "version": "3.9.6"
  }
 },
 "nbformat": 4,
 "nbformat_minor": 2
}
