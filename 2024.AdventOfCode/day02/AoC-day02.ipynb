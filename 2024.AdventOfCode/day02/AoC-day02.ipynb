{
 "cells": [
  {
   "cell_type": "code",
   "execution_count": null,
   "metadata": {},
   "outputs": [],
   "source": [
    "import re\n",
    "\n",
    "\n",
    "text_lines = open(\"example1.txt\").read().split(\"\\n\")\n",
    "# lines = open(\"input.txt\").read().split(\"\\n\")\n",
    "\n",
    "\n",
    "lines = [[int(num) for num in line.split(\" \")] for line in text_lines]\n",
    "lines\n",
    "\n",
    "# num_line = num_lines[0]\n",
    "length = len(lines[0])\n",
    "\n",
    "safe_reports = 0\n",
    "for num_line in lines:\n",
    "    diffs = [(num_line[i] - num_line[i + 1]) for i in range(length - 1)]\n",
    "    if all([abs(d) < 3 for d in diffs]):\n",
    "        safe_reports += 1\n",
    "\n",
    "safe_reports"
   ]
  },
  {
   "cell_type": "markdown",
   "metadata": {},
   "source": [
    "# Part 1"
   ]
  },
  {
   "cell_type": "code",
   "execution_count": null,
   "metadata": {},
   "outputs": [],
   "source": [
    "text_lines = open(\"example1.txt\").read().split(\"\\n\")\n",
    "text_lines = open(\"input.txt\").read().split(\"\\n\")\n",
    "\n",
    "\n",
    "lines = [[int(num) for num in line.split(\" \")] for line in text_lines]\n",
    "\n",
    "# num_lines = num_lines[0:1]\n",
    "\n",
    "safe_reports = 0\n",
    "for line in lines:\n",
    "    pairs = list( zip(line[:-1], line[1:]) )\n",
    "    diffs = [p[0] - p[1] for p in pairs]\n",
    "    #\n",
    "    all_positive = all([d > 0 for d in diffs])\n",
    "    all_negative = all([d < 0 for d in diffs])\n",
    "    safe_increments = all([1 <= abs(d) <= 3 for d in diffs])\n",
    "    if (all_positive or all_negative) and safe_increments:\n",
    "        safe_reports += 1\n",
    "\n",
    "safe_reports"
   ]
  },
  {
   "cell_type": "markdown",
   "metadata": {},
   "source": [
    "`(sol: 526)`\n",
    "\n",
    "<br>\n",
    "\n",
    "# Part 2"
   ]
  },
  {
   "cell_type": "code",
   "execution_count": 5,
   "metadata": {},
   "outputs": [
    {
     "name": "stdout",
     "output_type": "stream",
     "text": [
      "[7, 6, 4, 2, 1]\n",
      "  Safe (without doing anything)\n",
      "[1, 2, 7, 8, 9]\n",
      "  Unsafe\n",
      "[9, 7, 6, 2, 1]\n",
      "  Unsafe\n",
      "[1, 3, 2, 4, 5]\n",
      "  Safe by removing element 1 (3)\n",
      "  Unsafe\n",
      "[8, 6, 4, 4, 1]\n",
      "  Safe by removing element 2 (4)\n",
      "  Unsafe\n",
      "[1, 3, 6, 7, 9]\n",
      "  Safe (without doing anything)\n",
      "Safe reports: 4\n"
     ]
    }
   ],
   "source": [
    "text_lines = open(\"example1.txt\").read().split(\"\\n\")\n",
    "# text_lines = open(\"input.txt\").read().split(\"\\n\")\n",
    "\n",
    "\n",
    "lines = [[int(num) for num in line.split(\" \")] for line in text_lines]\n",
    "\n",
    "def check_line(line):\n",
    "    pairs = list( zip(line[:-1], line[1:]) )\n",
    "    diffs = [p[0] - p[1] for p in pairs]\n",
    "    length = len(line) - 1\n",
    "    #\n",
    "    positives = sum([ int(d > 0) for d in diffs])\n",
    "    negatives = sum([ int(d < 0) for d in diffs])\n",
    "    safe_increments = sum([1 <= abs(d) <= 3 for d in diffs])\n",
    "    if (positives == length or negatives == length) and safe_increments == length:\n",
    "        # print(\"✅\", line)\n",
    "        return True\n",
    "    elif positives >= length-1 and safe_increments >= length-1:\n",
    "        # print(\"❔\", line)\n",
    "        return None\n",
    "    elif negatives >= length-1  and safe_increments >= length-1:\n",
    "        # print(\"❔\", line)\n",
    "        # print(f\"  LINE: {line}\")\n",
    "        # print(f\"  DIFFS: {diffs}\")\n",
    "        # print(f\"  POSITIVES: {positives}\")\n",
    "        # print(f\"  NEGATIVES: {negatives}\")\n",
    "        # print(f\"  SAFE INCREMENTS: {safe_increments}\")\n",
    "        # print(\"-\"*20)\n",
    "        return None\n",
    "    else:\n",
    "        # print(\"❌\", line)\n",
    "        return False\n",
    "\n",
    "\n",
    "safe_reports = 0\n",
    "for line in lines:\n",
    "    print(line)\n",
    "    x = check_line(line)\n",
    "    if x in [True, False]:\n",
    "        print(f\"  Safe (without doing anything)\")\n",
    "        safe_reports += 1\n",
    "        continue\n",
    "    else:\n",
    "        for i in range(len(line)):\n",
    "            # drop element i from line\n",
    "            new_line = line.copy()\n",
    "            del new_line[i]\n",
    "            y = check_line(new_line)\n",
    "            if y == True:\n",
    "                print(f\"  Safe by removing element { i } ({ line[i] })\")\n",
    "                safe_reports += 1\n",
    "                break\n",
    "        print(f\"  Unsafe\")\n",
    "\n",
    "print(f\"Safe reports: { safe_reports }\")"
   ]
  },
  {
   "cell_type": "code",
   "execution_count": 12,
   "metadata": {},
   "outputs": [
    {
     "name": "stdout",
     "output_type": "stream",
     "text": [
      "Safe reports: 566\n"
     ]
    }
   ],
   "source": [
    "text_lines = open(\"example1.txt\").read().split(\"\\n\")\n",
    "text_lines = open(\"input.txt\").read().split(\"\\n\")\n",
    "\n",
    "\n",
    "lines = [[int(num) for num in line.split(\" \")] for line in text_lines]\n",
    "\n",
    "def check_line(line):\n",
    "    pairs = list( zip(line[:-1], line[1:]) )\n",
    "    diffs = [p[0] - p[1] for p in pairs]\n",
    "    length = len(line) - 1\n",
    "    #\n",
    "    positives = sum([ int(d > 0) for d in diffs])\n",
    "    negatives = sum([ int(d < 0) for d in diffs])\n",
    "    safe_increments = sum([1 <= abs(d) <= 3 for d in diffs])\n",
    "    if (positives == length or negatives == length) and safe_increments == length:\n",
    "        return True\n",
    "    elif positives >= length-1 and safe_increments >= length-1:\n",
    "        return None\n",
    "    elif negatives >= length-1  and safe_increments >= length-1:\n",
    "        return None\n",
    "    else:\n",
    "        return False\n",
    "\n",
    "\n",
    "safe_reports = 0\n",
    "for line in lines:\n",
    "    x = check_line(line)\n",
    "    if x == True:\n",
    "        safe_reports += 1\n",
    "        continue\n",
    "    else:\n",
    "        for i in range(len(line)):\n",
    "            # drop element i from line\n",
    "            new_line = line.copy()\n",
    "            del new_line[i]\n",
    "            y = check_line(new_line)\n",
    "            if y == True:\n",
    "                safe_reports += 1\n",
    "                break\n",
    "\n",
    "print(f\"Safe reports: { safe_reports }\")"
   ]
  }
 ],
 "metadata": {
  "kernelspec": {
   "display_name": "Python 3",
   "language": "python",
   "name": "python3"
  },
  "language_info": {
   "codemirror_mode": {
    "name": "ipython",
    "version": 3
   },
   "file_extension": ".py",
   "mimetype": "text/x-python",
   "name": "python",
   "nbconvert_exporter": "python",
   "pygments_lexer": "ipython3",
   "version": "3.9.6"
  }
 },
 "nbformat": 4,
 "nbformat_minor": 2
}
