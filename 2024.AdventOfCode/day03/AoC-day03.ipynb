{
 "cells": [
  {
   "cell_type": "markdown",
   "metadata": {},
   "source": [
    "# Part 1"
   ]
  },
  {
   "cell_type": "code",
   "execution_count": 60,
   "metadata": {},
   "outputs": [
    {
     "name": "stdout",
     "output_type": "stream",
     "text": [
      "%why();how()*-],+!mul(696,865)why()from()how():,;{where()mul(170,685)who()how()*from(881,957)?&selec\n",
      "Total:  166357705\n"
     ]
    }
   ],
   "source": [
    "import re\n",
    "\n",
    "\n",
    "text_lines = open(\"example1.txt\").read() # .split(\"\\n\")\n",
    "text_lines = open(\"input.txt\").read() # .split(\"\\n\")\n",
    "\n",
    "\n",
    "PATTERN_MULTIPLICATIONS = re.compile(r\"mul\\((\\d{1,3}),(\\d{1,3})\\)\")\n",
    "\n",
    "print(text_lines[:100])\n",
    "total = 0\n",
    "matches = re.findall(PATTERN_MULTIPLICATIONS, text_lines)\n",
    "\n",
    "for match in matches:\n",
    "    # print(match)\n",
    "    x, y = match\n",
    "    x, y = int(x), int(y)\n",
    "    total += (x * y)\n",
    "print(\"Total: \", total)"
   ]
  },
  {
   "cell_type": "markdown",
   "metadata": {},
   "source": [
    "<br>\n",
    "\n",
    "# Part 2"
   ]
  },
  {
   "cell_type": "code",
   "execution_count": 94,
   "metadata": {},
   "outputs": [
    {
     "name": "stdout",
     "output_type": "stream",
     "text": [
      "do()xmul(2,4)%&mul[3,7]!@^do_not_mul(5,5)+mul(32,64]then(mul(11,8)mul(8,5))don't()\n",
      "[('', '()xmul(2,4)%&mul[3,7]!@^do_not_mul(5,5)+mul(32,64]then(mul(11,8)mul(8,5))', '')]\n"
     ]
    }
   ],
   "source": [
    "import re\n",
    "\n",
    "\n",
    "text_lines = open(\"example1.txt\").read()\n",
    "\n",
    "OP_DO = \"do()\"\n",
    "OP_DONT = \"don't()\"\n",
    "text_lines = OP_DO + text_lines + OP_DONT\n",
    "\n",
    "PATTERN_DOS = re.compile(rf\"{OP_DO}(.+?){OP_DONT}\")\n",
    "\n",
    "print(text_lines[:100])\n",
    "matches = re.findall(PATTERN_DOS, text_lines)\n",
    "\n",
    "# mmm = [[m for m in match if m] for match in matches]\n",
    "# remove empty string from array\n",
    "# matches = [m for m in matches if m]\n",
    "print(matches)\n"
   ]
  },
  {
   "cell_type": "code",
   "execution_count": 101,
   "metadata": {},
   "outputs": [
    {
     "name": "stdout",
     "output_type": "stream",
     "text": [
      "87041360\n"
     ]
    }
   ],
   "source": [
    "text_lines = open(\"input.txt\").read()\n",
    "text_lines = OP_DO + text_lines + OP_DONT\n",
    "\n",
    "matches = re.findall(PATTERN_DOS, text_lines)\n",
    "\n",
    "total = 0\n",
    "for match in matches:\n",
    "    match = match[1]\n",
    "    submatches = re.findall(PATTERN_MULTIPLICATIONS, match)\n",
    "    for submatch in submatches:\n",
    "        x, y = submatch\n",
    "        x, y = int(x), int(y)\n",
    "        total += (x * y)\n",
    "print(total)"
   ]
  }
 ],
 "metadata": {
  "kernelspec": {
   "display_name": "Python 3",
   "language": "python",
   "name": "python3"
  },
  "language_info": {
   "codemirror_mode": {
    "name": "ipython",
    "version": 3
   },
   "file_extension": ".py",
   "mimetype": "text/x-python",
   "name": "python",
   "nbconvert_exporter": "python",
   "pygments_lexer": "ipython3",
   "version": "3.9.6"
  }
 },
 "nbformat": 4,
 "nbformat_minor": 2
}
