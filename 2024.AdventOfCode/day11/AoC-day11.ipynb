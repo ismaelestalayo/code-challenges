{
 "cells": [
  {
   "cell_type": "code",
   "execution_count": 1,
   "metadata": {},
   "outputs": [
    {
     "data": {
      "text/plain": [
       "['0', '1', '10', '99', '999']"
      ]
     },
     "execution_count": 1,
     "metadata": {},
     "output_type": "execute_result"
    }
   ],
   "source": [
    "def parse_file(filename: str):\n",
    "    text_line = open(filename).read()\n",
    "    line = text_line.split(\" \")\n",
    "    return line\n",
    "\n",
    "\n",
    "line = parse_file(\"example1.txt\")\n",
    "line"
   ]
  },
  {
   "cell_type": "code",
   "execution_count": 2,
   "metadata": {},
   "outputs": [
    {
     "data": {
      "text/plain": [
       "'1 0'"
      ]
     },
     "execution_count": 2,
     "metadata": {},
     "output_type": "execute_result"
    }
   ],
   "source": [
    "def process_num(num):\n",
    "    if not isinstance(num, str):\n",
    "        num = str(num)\n",
    "    if num == \"0\":\n",
    "        return \"1\"\n",
    "    elif len(num) % 2 == 0:\n",
    "        half = len(num) // 2\n",
    "        left, right = num[:half], num[half:]\n",
    "        left, right = left.lstrip(\"0\") or \"0\", right.lstrip(\"0\") or \"0\"\n",
    "        return f\"{left} {right}\"\n",
    "    else:\n",
    "        return str(int(num) * 2024)\n",
    "\n",
    "process_num(\"10\")"
   ]
  },
  {
   "cell_type": "code",
   "execution_count": 15,
   "metadata": {},
   "outputs": [
    {
     "name": "stdout",
     "output_type": "stream",
     "text": [
      "> Iteration 1 len: 3\n",
      "> Iteration 2 len: 4\n",
      "> Iteration 3 len: 5\n",
      "> Iteration 4 len: 9\n",
      "> Iteration 5 len: 13\n",
      "> Iteration 6 len: 22\n"
     ]
    }
   ],
   "source": [
    "def blink(line: list, num: int):\n",
    "    for i in range(1, num + 1):\n",
    "        line = [process_num(num) for num in line]\n",
    "        line = \" \".join(line)\n",
    "        line = line.split(\" \")\n",
    "        print(f\"> Iteration { i } len: { len(line) }\")\n",
    "\n",
    "line = [\"125\", \"17\"]\n",
    "blink(line, 6)"
   ]
  },
  {
   "cell_type": "code",
   "execution_count": 16,
   "metadata": {},
   "outputs": [
    {
     "name": "stdout",
     "output_type": "stream",
     "text": [
      "> Iteration 1 len: 3\n",
      "> Iteration 2 len: 4\n",
      "> Iteration 3 len: 5\n",
      "> Iteration 4 len: 9\n",
      "> Iteration 5 len: 13\n",
      "> Iteration 6 len: 22\n",
      "> Iteration 7 len: 31\n",
      "> Iteration 8 len: 42\n",
      "> Iteration 9 len: 68\n",
      "> Iteration 10 len: 109\n",
      "> Iteration 11 len: 170\n",
      "> Iteration 12 len: 235\n",
      "> Iteration 13 len: 342\n",
      "> Iteration 14 len: 557\n",
      "> Iteration 15 len: 853\n",
      "> Iteration 16 len: 1298\n",
      "> Iteration 17 len: 1951\n",
      "> Iteration 18 len: 2869\n",
      "> Iteration 19 len: 4490\n",
      "> Iteration 20 len: 6837\n",
      "> Iteration 21 len: 10362\n",
      "> Iteration 22 len: 15754\n",
      "> Iteration 23 len: 23435\n",
      "> Iteration 24 len: 36359\n",
      "> Iteration 25 len: 55312\n"
     ]
    }
   ],
   "source": [
    "line = [\"125\", \"17\"]\n",
    "blink(line, 25)"
   ]
  },
  {
   "cell_type": "markdown",
   "metadata": {},
   "source": [
    "# Part 1"
   ]
  },
  {
   "cell_type": "code",
   "execution_count": 17,
   "metadata": {},
   "outputs": [
    {
     "name": "stdout",
     "output_type": "stream",
     "text": [
      "> Iteration 1 len: 11\n",
      "> Iteration 2 len: 15\n",
      "> Iteration 3 len: 22\n",
      "> Iteration 4 len: 32\n",
      "> Iteration 5 len: 45\n",
      "> Iteration 6 len: 71\n",
      "> Iteration 7 len: 111\n",
      "> Iteration 8 len: 163\n",
      "> Iteration 9 len: 230\n",
      "> Iteration 10 len: 353\n",
      "> Iteration 11 len: 569\n",
      "> Iteration 12 len: 869\n",
      "> Iteration 13 len: 1249\n",
      "> Iteration 14 len: 1858\n",
      "> Iteration 15 len: 2925\n",
      "> Iteration 16 len: 4434\n",
      "> Iteration 17 len: 6694\n",
      "> Iteration 18 len: 10134\n",
      "> Iteration 19 len: 15245\n",
      "> Iteration 20 len: 23375\n",
      "> Iteration 21 len: 35559\n",
      "> Iteration 22 len: 54088\n",
      "> Iteration 23 len: 81965\n",
      "> Iteration 24 len: 123446\n",
      "> Iteration 25 len: 189167\n"
     ]
    }
   ],
   "source": [
    "line = parse_file(\"input.txt\")\n",
    "blink(line, 25)"
   ]
  },
  {
   "cell_type": "markdown",
   "metadata": {},
   "source": [
    "> 189167"
   ]
  },
  {
   "cell_type": "markdown",
   "metadata": {},
   "source": [
    "<br> \n",
    "\n",
    "# Part 2 (debug)"
   ]
  },
  {
   "cell_type": "code",
   "execution_count": 5,
   "metadata": {},
   "outputs": [
    {
     "name": "stdout",
     "output_type": "stream",
     "text": [
      "> Iteration 1 len: 11\n",
      "> Iteration 2 len: 15\n",
      "> Iteration 3 len: 22\n",
      "> Iteration 4 len: 32\n",
      "> Iteration 5 len: 45\n",
      "> Iteration 6 len: 71\n",
      "> Iteration 7 len: 111\n",
      "> Iteration 8 len: 163\n",
      "> Iteration 9 len: 230\n",
      "> Iteration 10 len: 353\n",
      "> Iteration 11 len: 569\n",
      "> Iteration 12 len: 869\n",
      "> Iteration 13 len: 1249\n",
      "> Iteration 14 len: 1858\n",
      "> Iteration 15 len: 2925\n",
      "> Iteration 16 len: 4434\n",
      "> Iteration 17 len: 6694\n",
      "> Iteration 18 len: 10134\n",
      "> Iteration 19 len: 15245\n",
      "> Iteration 20 len: 23375\n",
      "> Iteration 21 len: 35559\n",
      "> Iteration 22 len: 54088\n",
      "> Iteration 23 len: 81965\n",
      "> Iteration 24 len: 123446\n",
      "> Iteration 25 len: 189167\n",
      "> Iteration 26 len: 287589\n",
      "> Iteration 27 len: 434752\n",
      "> Iteration 28 len: 661859\n",
      "> Iteration 29 len: 1003120\n",
      "> Iteration 30 len: 1527067\n",
      "> Iteration 31 len: 2319565\n",
      "> Iteration 32 len: 3516126\n",
      "> Iteration 33 len: 5355708\n",
      "> Iteration 34 len: 8115012\n",
      "> Iteration 35 len: 12329462\n",
      "> Iteration 36 len: 18761123\n",
      "> Iteration 37 len: 28443586\n",
      "> Iteration 38 len: 43249613\n"
     ]
    },
    {
     "ename": "KeyboardInterrupt",
     "evalue": "",
     "output_type": "error",
     "traceback": [
      "\u001b[0;31m---------------------------------------------------------------------------\u001b[0m",
      "\u001b[0;31mKeyboardInterrupt\u001b[0m                         Traceback (most recent call last)",
      "Cell \u001b[0;32mIn[5], line 25\u001b[0m\n\u001b[1;32m     22\u001b[0m         \u001b[38;5;28mprint\u001b[39m(\u001b[38;5;124mf\u001b[39m\u001b[38;5;124m\"\u001b[39m\u001b[38;5;124m> Iteration \u001b[39m\u001b[38;5;132;01m{\u001b[39;00m\u001b[38;5;250m \u001b[39mi\u001b[38;5;250m \u001b[39m\u001b[38;5;132;01m}\u001b[39;00m\u001b[38;5;124m len: \u001b[39m\u001b[38;5;132;01m{\u001b[39;00m\u001b[38;5;250m \u001b[39m\u001b[38;5;28mlen\u001b[39m(line)\u001b[38;5;250m \u001b[39m\u001b[38;5;132;01m}\u001b[39;00m\u001b[38;5;124m\"\u001b[39m)\n\u001b[1;32m     24\u001b[0m line \u001b[38;5;241m=\u001b[39m [\u001b[38;5;124m'\u001b[39m\u001b[38;5;124m28\u001b[39m\u001b[38;5;124m'\u001b[39m, \u001b[38;5;124m'\u001b[39m\u001b[38;5;124m4\u001b[39m\u001b[38;5;124m'\u001b[39m, \u001b[38;5;124m'\u001b[39m\u001b[38;5;124m3179\u001b[39m\u001b[38;5;124m'\u001b[39m, \u001b[38;5;124m'\u001b[39m\u001b[38;5;124m96938\u001b[39m\u001b[38;5;124m'\u001b[39m, \u001b[38;5;124m'\u001b[39m\u001b[38;5;124m0\u001b[39m\u001b[38;5;124m'\u001b[39m, \u001b[38;5;124m'\u001b[39m\u001b[38;5;124m6617406\u001b[39m\u001b[38;5;124m'\u001b[39m, \u001b[38;5;124m'\u001b[39m\u001b[38;5;124m490\u001b[39m\u001b[38;5;124m'\u001b[39m, \u001b[38;5;124m'\u001b[39m\u001b[38;5;124m816207\u001b[39m\u001b[38;5;124m'\u001b[39m]\n\u001b[0;32m---> 25\u001b[0m \u001b[43mblink\u001b[49m\u001b[43m(\u001b[49m\u001b[43mline\u001b[49m\u001b[43m,\u001b[49m\u001b[43m \u001b[49m\u001b[38;5;241;43m75\u001b[39;49m\u001b[43m)\u001b[49m\n",
      "Cell \u001b[0;32mIn[5], line 19\u001b[0m, in \u001b[0;36mblink\u001b[0;34m(line, iterations)\u001b[0m\n\u001b[1;32m     17\u001b[0m \u001b[38;5;28;01mdef\u001b[39;00m \u001b[38;5;21mblink\u001b[39m(line: \u001b[38;5;28mlist\u001b[39m, iterations: \u001b[38;5;28mint\u001b[39m):\n\u001b[1;32m     18\u001b[0m     \u001b[38;5;28;01mfor\u001b[39;00m i \u001b[38;5;129;01min\u001b[39;00m \u001b[38;5;28mrange\u001b[39m(\u001b[38;5;241m1\u001b[39m, iterations \u001b[38;5;241m+\u001b[39m \u001b[38;5;241m1\u001b[39m):\n\u001b[0;32m---> 19\u001b[0m         line \u001b[38;5;241m=\u001b[39m [process_num(num) \u001b[38;5;28;01mfor\u001b[39;00m num \u001b[38;5;129;01min\u001b[39;00m line]\n\u001b[1;32m     20\u001b[0m         line \u001b[38;5;241m=\u001b[39m \u001b[38;5;124m\"\u001b[39m\u001b[38;5;124m \u001b[39m\u001b[38;5;124m\"\u001b[39m\u001b[38;5;241m.\u001b[39mjoin(line)\n\u001b[1;32m     21\u001b[0m         line \u001b[38;5;241m=\u001b[39m line\u001b[38;5;241m.\u001b[39msplit(\u001b[38;5;124m\"\u001b[39m\u001b[38;5;124m \u001b[39m\u001b[38;5;124m\"\u001b[39m)\n",
      "Cell \u001b[0;32mIn[5], line 19\u001b[0m, in \u001b[0;36m<listcomp>\u001b[0;34m(.0)\u001b[0m\n\u001b[1;32m     17\u001b[0m \u001b[38;5;28;01mdef\u001b[39;00m \u001b[38;5;21mblink\u001b[39m(line: \u001b[38;5;28mlist\u001b[39m, iterations: \u001b[38;5;28mint\u001b[39m):\n\u001b[1;32m     18\u001b[0m     \u001b[38;5;28;01mfor\u001b[39;00m i \u001b[38;5;129;01min\u001b[39;00m \u001b[38;5;28mrange\u001b[39m(\u001b[38;5;241m1\u001b[39m, iterations \u001b[38;5;241m+\u001b[39m \u001b[38;5;241m1\u001b[39m):\n\u001b[0;32m---> 19\u001b[0m         line \u001b[38;5;241m=\u001b[39m [\u001b[43mprocess_num\u001b[49m\u001b[43m(\u001b[49m\u001b[43mnum\u001b[49m\u001b[43m)\u001b[49m \u001b[38;5;28;01mfor\u001b[39;00m num \u001b[38;5;129;01min\u001b[39;00m line]\n\u001b[1;32m     20\u001b[0m         line \u001b[38;5;241m=\u001b[39m \u001b[38;5;124m\"\u001b[39m\u001b[38;5;124m \u001b[39m\u001b[38;5;124m\"\u001b[39m\u001b[38;5;241m.\u001b[39mjoin(line)\n\u001b[1;32m     21\u001b[0m         line \u001b[38;5;241m=\u001b[39m line\u001b[38;5;241m.\u001b[39msplit(\u001b[38;5;124m\"\u001b[39m\u001b[38;5;124m \u001b[39m\u001b[38;5;124m\"\u001b[39m)\n",
      "\u001b[0;31mKeyboardInterrupt\u001b[0m: "
     ]
    }
   ],
   "source": [
    "from functools import lru_cache\n",
    "\n",
    "@lru_cache(maxsize=None)\n",
    "def process_num(num):\n",
    "    if not isinstance(num, str):\n",
    "        num = str(num)\n",
    "    if num == \"0\":\n",
    "        return \"1\"\n",
    "    elif len(num) % 2 == 0:\n",
    "        half = len(num) // 2\n",
    "        left, right = num[:half], num[half:]\n",
    "        left, right = left.lstrip(\"0\") or \"0\", right.lstrip(\"0\") or \"0\"\n",
    "        return f\"{left} {right}\"\n",
    "    else:\n",
    "        return str(int(num) * 2024)\n",
    "\n",
    "def blink(line: list, iterations: int):\n",
    "    for i in range(1, iterations + 1):\n",
    "        line = [process_num(num) for num in line]\n",
    "        line = \" \".join(line)\n",
    "        line = line.split(\" \")\n",
    "        print(f\"> Iteration { i } len: { len(line) }\")\n",
    "\n",
    "line = ['28', '4', '3179', '96938', '0', '6617406', '490', '816207']\n",
    "blink(line, 75)"
   ]
  },
  {
   "cell_type": "markdown",
   "metadata": {},
   "source": [
    "# Part 2"
   ]
  },
  {
   "cell_type": "code",
   "execution_count": null,
   "metadata": {},
   "outputs": [],
   "source": []
  }
 ],
 "metadata": {
  "kernelspec": {
   "display_name": "Python 3",
   "language": "python",
   "name": "python3"
  },
  "language_info": {
   "codemirror_mode": {
    "name": "ipython",
    "version": 3
   },
   "file_extension": ".py",
   "mimetype": "text/x-python",
   "name": "python",
   "nbconvert_exporter": "python",
   "pygments_lexer": "ipython3",
   "version": "3.9.6"
  }
 },
 "nbformat": 4,
 "nbformat_minor": 2
}
